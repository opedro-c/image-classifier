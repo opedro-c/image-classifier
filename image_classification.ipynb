{
 "nbformat": 4,
 "nbformat_minor": 0,
 "metadata": {
  "colab": {
   "provenance": [],
   "toc_visible": true
  },
  "kernelspec": {
   "name": "python3",
   "display_name": "Python 3"
  },
  "language_info": {
   "name": "python"
  }
 },
 "cells": [
  {
   "cell_type": "code",
   "source": [
    "# Import standard libraries for randomness, deep copying, and numerical operations\n",
    "import random\n",
    "import numpy as np\n",
    "from copy import deepcopy\n",
    "\n",
    "# Import libraries for image processing and data manipulation\n",
    "from PIL import Image\n",
    "import pandas as pd\n",
    "\n",
    "# Import PyTorch core and utilities for deep learning\n",
    "import torch\n",
    "import torch.optim as optim  # Optimization algorithms\n",
    "import torch.nn as nn  # Neural network modules\n",
    "import torch.nn.functional as F  # Functional API for non-parametric operations\n",
    "\n",
    "# Import PyTorch utilities for data loading and transformations\n",
    "from torch.utils.data import DataLoader, Dataset, random_split, WeightedRandomSampler\n",
    "from torchvision.transforms.v2 import Compose, ToImage, Normalize, ToPILImage, Resize, ToDtype\n",
    "\n",
    "# Import dataset handling and learning rate schedulers\n",
    "from torchvision.datasets import ImageFolder\n",
    "from torch.optim.lr_scheduler import StepLR, ReduceLROnPlateau, MultiStepLR, CyclicLR, LambdaLR\n",
    "\n",
    "# Import visualization and web utilities\n",
    "import matplotlib.pyplot as plt\n",
    "import requests\n",
    "import zipfile\n",
    "import os\n",
    "import errno\n",
    "\n",
    "from sklearn.linear_model import LinearRegression\n",
    "\n",
    "# Set matplotlib style for better visuals\n",
    "plt.style.use('fivethirtyeight')"
   ],
   "metadata": {
    "id": "kTnpA365X7r9",
    "ExecuteTime": {
     "end_time": "2025-07-24T23:30:15.647484Z",
     "start_time": "2025-07-24T23:30:15.644084Z"
    }
   },
   "outputs": [],
   "execution_count": 666
  },
  {
   "metadata": {
    "ExecuteTime": {
     "end_time": "2025-07-24T23:30:15.666826Z",
     "start_time": "2025-07-24T23:30:15.665210Z"
    }
   },
   "cell_type": "code",
   "source": [
    "# Train and test directories\n",
    "TRAIN_DIR = 'train'\n",
    "TEST_DIR = 'test'"
   ],
   "outputs": [],
   "execution_count": 667
  },
  {
   "cell_type": "markdown",
   "source": [
    "## Architecture class"
   ],
   "metadata": {
    "id": "h38OikK_-d4M"
   }
  },
  {
   "cell_type": "code",
   "source": [
    "class Architecture(object):\n",
    "    def __init__(self, model, loss_fn, optimizer):\n",
    "        # Here we define the attributes of our class\n",
    "\n",
    "        # We start by storing the arguments as attributes\n",
    "        # to use them later\n",
    "        self.model = model\n",
    "        self.loss_fn = loss_fn\n",
    "        self.optimizer = optimizer\n",
    "        self.device = 'cuda' if torch.cuda.is_available() else 'cpu'\n",
    "        # Let's send the model to the specified device right away\n",
    "        self.model.to(self.device)\n",
    "\n",
    "        # These attributes are defined here, but since they are\n",
    "        # not informed at the moment of creation, we keep them None\n",
    "        self.train_loader = None\n",
    "        self.val_loader = None\n",
    "\n",
    "        # These attributes are going to be computed internally\n",
    "        self.losses = []\n",
    "        self.val_losses = []\n",
    "        self.total_epochs = 0\n",
    "\n",
    "        # Creates the train_step function for our model,\n",
    "        # loss function and optimizer\n",
    "        # Note: there are NO ARGS there! It makes use of the class\n",
    "        # attributes directly\n",
    "        self.train_step_fn = self._make_train_step_fn()\n",
    "        # Creates the val_step function for our model and loss\n",
    "        self.val_step_fn = self._make_val_step_fn()\n",
    "\n",
    "        # for hook purposes\n",
    "        self.handles = {}\n",
    "        self.visualization = {}\n",
    "\n",
    "    def to(self, device):\n",
    "        # This method allows the user to specify a different device\n",
    "        # It sets the corresponding attribute (to be used later in\n",
    "        # the mini-batches) and sends the model to the device\n",
    "        try:\n",
    "            self.device = device\n",
    "            self.model.to(self.device)\n",
    "        except RuntimeError:\n",
    "            self.device = 'cuda' if torch.cuda.is_available() else 'cpu'\n",
    "            print(f\"Couldn't send it to {device}, sending it to {self.device} instead.\")\n",
    "            self.model.to(self.device)\n",
    "\n",
    "    def set_loaders(self, train_loader, val_loader=None):\n",
    "        # This method allows the user to define which train_loader (and val_loader, optionally) to use\n",
    "        # Both loaders are then assigned to attributes of the class\n",
    "        # So they can be referred to later\n",
    "        self.train_loader = train_loader\n",
    "        self.val_loader = val_loader\n",
    "\n",
    "    def _make_train_step_fn(self):\n",
    "        # This method does not need ARGS... it can refer to\n",
    "        # the attributes: self.model, self.loss_fn and self.optimizer\n",
    "\n",
    "        # Builds function that performs a step in the train loop\n",
    "        def perform_train_step_fn(x, y):\n",
    "            # Sets model to TRAIN mode\n",
    "            self.model.train()\n",
    "\n",
    "            # Step 1 - Computes our model's predicted output - forward pass\n",
    "            yhat = self.model(x)\n",
    "            # Step 2 - Computes the loss\n",
    "            loss = self.loss_fn(yhat, y)\n",
    "            # Step 3 - Computes gradients for both \"a\" and \"b\" parameters\n",
    "            loss.backward()\n",
    "            # Step 4 - Updates parameters using gradients and the learning rate\n",
    "            self.optimizer.step()\n",
    "            self.optimizer.zero_grad()\n",
    "\n",
    "            # Returns the loss\n",
    "            return loss.item()\n",
    "\n",
    "        # Returns the function that will be called inside the train loop\n",
    "        return perform_train_step_fn\n",
    "\n",
    "    def _make_val_step_fn(self):\n",
    "        # Builds function that performs a step in the validation loop\n",
    "        def perform_val_step_fn(x, y):\n",
    "            # Sets model to EVAL mode\n",
    "            self.model.eval()\n",
    "\n",
    "            # Step 1 - Computes our model's predicted output - forward pass\n",
    "            yhat = self.model(x)\n",
    "            # Step 2 - Computes the loss\n",
    "            loss = self.loss_fn(yhat, y)\n",
    "            # There is no need to compute Steps 3 and 4, since we don't update parameters during evaluation\n",
    "            return loss.item()\n",
    "\n",
    "        return perform_val_step_fn\n",
    "\n",
    "    def _mini_batch(self, validation=False):\n",
    "        # The mini-batch can be used with both loaders\n",
    "        # The argument `validation`defines which loader and\n",
    "        # corresponding step function is going to be used\n",
    "        if validation:\n",
    "            data_loader = self.val_loader\n",
    "            step_fn = self.val_step_fn\n",
    "        else:\n",
    "            data_loader = self.train_loader\n",
    "            step_fn = self.train_step_fn\n",
    "\n",
    "        if data_loader is None:\n",
    "            return None\n",
    "\n",
    "        # Once the data loader and step function, this is the same\n",
    "        # mini-batch loop we had before\n",
    "        mini_batch_losses = []\n",
    "        for x_batch, y_batch in data_loader:\n",
    "            x_batch = x_batch.to(self.device)\n",
    "            y_batch = y_batch.to(self.device)\n",
    "\n",
    "            mini_batch_loss = step_fn(x_batch, y_batch)\n",
    "            mini_batch_losses.append(mini_batch_loss)\n",
    "\n",
    "        loss = np.mean(mini_batch_losses)\n",
    "        return loss\n",
    "\n",
    "    def make_lr_fn(start_lr, end_lr, num_iter, mode='exp'):\n",
    "        if mode == 'exp':\n",
    "            def lr_lambda(iteration):\n",
    "                return (end_lr / start_lr) ** (iteration / (num_iter - 1))\n",
    "        elif mode == 'linear':\n",
    "            def lr_lambda(iteration):\n",
    "                return 1 + (end_lr - start_lr) * (iteration / (num_iter - 1)) / start_lr\n",
    "        else:\n",
    "            raise ValueError(\"Unknown mode: choose 'exp' or 'linear'\")\n",
    "        return lr_lambda\n",
    "\n",
    "    # this function was updated in this class\n",
    "    def set_seed(self, seed=42):\n",
    "        torch.backends.cudnn.deterministic = True\n",
    "        torch.backends.cudnn.benchmark = False\n",
    "        torch.manual_seed(seed)\n",
    "        np.random.seed(seed)\n",
    "        random.seed(seed)\n",
    "        try:\n",
    "            self.train_loader.sampler.generator.manual_seed(seed)\n",
    "        except AttributeError:\n",
    "            pass\n",
    "\n",
    "    def train(self, n_epochs, seed=42):\n",
    "        # To ensure reproducibility of the training process\n",
    "        self.set_seed(seed)\n",
    "\n",
    "        for epoch in range(n_epochs):\n",
    "            # Keeps track of the numbers of epochs\n",
    "            # by updating the corresponding attribute\n",
    "            self.total_epochs += 1\n",
    "\n",
    "            # inner loop\n",
    "            # Performs training using mini-batches\n",
    "            loss = self._mini_batch(validation=False)\n",
    "            self.losses.append(loss)\n",
    "\n",
    "            # VALIDATION\n",
    "            # no gradients in validation!\n",
    "            with torch.no_grad():\n",
    "                # Performs evaluation using mini-batches\n",
    "                val_loss = self._mini_batch(validation=True)\n",
    "                self.val_losses.append(val_loss)\n",
    "\n",
    "    def save_checkpoint(self, filename):\n",
    "        # Builds dictionary with all elements for resuming training\n",
    "        checkpoint = {'epoch': self.total_epochs,\n",
    "                      'model_state_dict': self.model.state_dict(),\n",
    "                      'optimizer_state_dict': self.optimizer.state_dict(),\n",
    "                      'loss': self.losses,\n",
    "                      'val_loss': self.val_losses}\n",
    "\n",
    "        torch.save(checkpoint, filename)\n",
    "\n",
    "    def load_checkpoint(self, filename):\n",
    "        # Loads dictionary\n",
    "        checkpoint = torch.load(filename)\n",
    "\n",
    "        # Restore state for model and optimizer\n",
    "        self.model.load_state_dict(checkpoint['model_state_dict'])\n",
    "        self.optimizer.load_state_dict(checkpoint['optimizer_state_dict'])\n",
    "\n",
    "        self.total_epochs = checkpoint['epoch']\n",
    "        self.losses = checkpoint['loss']\n",
    "        self.val_losses = checkpoint['val_loss']\n",
    "\n",
    "        self.model.train()  # always use TRAIN for resuming training\n",
    "\n",
    "    def predict(self, x):\n",
    "        # Set is to evaluation mode for predictions\n",
    "        self.model.eval()\n",
    "        # Takes aNumpy input and make it a float tensor\n",
    "        x_tensor = torch.as_tensor(x).float()\n",
    "        # Send input to device and uses model for prediction\n",
    "        y_hat_tensor = self.model(x_tensor.to(self.device))\n",
    "        # Set it back to train mode\n",
    "        self.model.train()\n",
    "        # Detaches it, brings it to CPU and back to Numpy\n",
    "        return y_hat_tensor.detach().cpu().numpy()\n",
    "\n",
    "    def count_parameters(self):\n",
    "        return sum(p.numel() for p in self.model.parameters() if p.requires_grad)\n",
    "\n",
    "    def plot_losses(self):\n",
    "        fig = plt.figure(figsize=(10, 4))\n",
    "        plt.plot(self.losses, label='Training Loss', c='b')\n",
    "        plt.plot(self.val_losses, label='Validation Loss', c='r')\n",
    "        plt.yscale('log')\n",
    "        plt.xlabel('Epochs')\n",
    "        plt.ylabel('Loss')\n",
    "        plt.legend()\n",
    "        plt.tight_layout()\n",
    "        return fig\n",
    "\n",
    "    @staticmethod\n",
    "    def _visualize_tensors(axs, x, y=None, yhat=None, layer_name='', title=None):\n",
    "        # The number of images is the number of subplots in a row\n",
    "        n_images = len(axs)\n",
    "        # Gets max and min values for scaling the grayscale\n",
    "        minv, maxv = np.min(x[:n_images]), np.max(x[:n_images])\n",
    "        # For each image\n",
    "        for j, image in enumerate(x[:n_images]):\n",
    "            ax = axs[j]\n",
    "            # Sets title, labels, and removes ticks\n",
    "            if title is not None:\n",
    "                ax.set_title(f'{title} #{j}', fontsize=12)\n",
    "            shp = np.atleast_2d(image).shape\n",
    "            ax.set_ylabel(\n",
    "                f'{layer_name}\\n{shp[0]}x{shp[1]}',\n",
    "                rotation=0, labelpad=40\n",
    "            )\n",
    "            xlabel1 = '' if y is None else f'\\nLabel: {y[j]}'\n",
    "            xlabel2 = '' if yhat is None else f'\\nPredicted: {yhat[j]}'\n",
    "            xlabel = f'{xlabel1}{xlabel2}'\n",
    "            if len(xlabel):\n",
    "                ax.set_xlabel(xlabel, fontsize=12)\n",
    "            ax.set_xticks([])\n",
    "            ax.set_yticks([])\n",
    "\n",
    "            # Plots weight as an image\n",
    "            ax.imshow(\n",
    "                np.atleast_2d(image.squeeze()),\n",
    "                cmap='gray',\n",
    "                vmin=minv,\n",
    "                vmax=maxv\n",
    "            )\n",
    "        return\n",
    "\n",
    "    def visualize_filters(self, layer_name, **kwargs):\n",
    "        try:\n",
    "            # Gets the layer object from the model\n",
    "            layer = self.model\n",
    "            for name in layer_name.split('.'):\n",
    "                layer = getattr(layer, name)\n",
    "            # We are only looking at filters for 2D convolutions\n",
    "            if isinstance(layer, nn.Conv2d):\n",
    "                # Takes the weight information\n",
    "                weights = layer.weight.data.cpu().numpy()\n",
    "                # weights -> (channels_out (filter), channels_in, H, W)\n",
    "                n_filters, n_channels, _, _ = weights.shape\n",
    "\n",
    "                # Builds a figure\n",
    "                size = (2 * n_channels + 2, 2 * n_filters)\n",
    "                fig, axes = plt.subplots(n_filters, n_channels,\n",
    "                                         figsize=size)\n",
    "                axes = np.atleast_2d(axes)\n",
    "                axes = axes.reshape(n_filters, n_channels)\n",
    "                # For each channel_out (filter)\n",
    "                for i in range(n_filters):\n",
    "                    Architecture._visualize_tensors(\n",
    "                        axes[i, :],\n",
    "                        weights[i],\n",
    "                        layer_name=f'Filter #{i}',\n",
    "                        title='Channel'\n",
    "                    )\n",
    "\n",
    "                for ax in axes.flat:\n",
    "                    ax.label_outer()\n",
    "\n",
    "                fig.tight_layout()\n",
    "                return fig\n",
    "        except AttributeError:\n",
    "            return\n",
    "\n",
    "    def attach_hooks(self, layers_to_hook, hook_fn=None):\n",
    "        # Clear any previous values\n",
    "        self.visualization = {}\n",
    "        # Creates the dictionary to map layer objects to their names\n",
    "        modules = list(self.model.named_modules())\n",
    "        layer_names = {layer: name for name, layer in modules[1:]}\n",
    "\n",
    "        if hook_fn is None:\n",
    "            # Hook function to be attached to the forward pass\n",
    "            def hook_fn(layer, inputs, outputs):\n",
    "                # Gets the layer name\n",
    "                name = layer_names[layer]\n",
    "                # Detaches outputs\n",
    "                values = outputs.detach().cpu().numpy()\n",
    "                # Since the hook function may be called multiple times\n",
    "                # for example, if we make predictions for multiple mini-batches\n",
    "                # it concatenates the results\n",
    "                if self.visualization[name] is None:\n",
    "                    self.visualization[name] = values\n",
    "                else:\n",
    "                    self.visualization[name] = np.concatenate([self.visualization[name], values])\n",
    "\n",
    "        for name, layer in modules:\n",
    "            # If the layer is in our list\n",
    "            if name in layers_to_hook:\n",
    "                # Initializes the corresponding key in the dictionary\n",
    "                self.visualization[name] = None\n",
    "                # Register the forward hook and keep the handle in another dict\n",
    "                self.handles[name] = layer.register_forward_hook(hook_fn)\n",
    "\n",
    "    def remove_hooks(self):\n",
    "        # Loops through all hooks and removes them\n",
    "        for handle in self.handles.values():\n",
    "            handle.remove()\n",
    "        # Clear the dict, as all hooks have been removed\n",
    "        self.handles = {}\n",
    "\n",
    "    def visualize_outputs(self, layers, n_images=10, y=None, yhat=None):\n",
    "        layers = filter(lambda l: l in self.visualization.keys(), layers)\n",
    "        layers = list(layers)\n",
    "        shapes = [self.visualization[layer].shape for layer in layers]\n",
    "        n_rows = [shape[1] if len(shape) == 4 else 1\n",
    "                  for shape in shapes]\n",
    "        total_rows = np.sum(n_rows)\n",
    "\n",
    "        fig, axes = plt.subplots(total_rows, n_images,\n",
    "                                 figsize=(1.5 * n_images, 1.5 * total_rows))\n",
    "        axes = np.atleast_2d(axes).reshape(total_rows, n_images)\n",
    "\n",
    "        # Loops through the layers, one layer per row of subplots\n",
    "        row = 0\n",
    "        for i, layer in enumerate(layers):\n",
    "            start_row = row\n",
    "            # Takes the produced feature maps for that layer\n",
    "            output = self.visualization[layer]\n",
    "\n",
    "            is_vector = len(output.shape) == 2\n",
    "\n",
    "            for j in range(n_rows[i]):\n",
    "                Architecture._visualize_tensors(\n",
    "                    axes[row, :],\n",
    "                    output if is_vector else output[:, j].squeeze(),\n",
    "                    y,\n",
    "                    yhat,\n",
    "                    layer_name=layers[i] \\\n",
    "                        if is_vector \\\n",
    "                        else f'{layers[i]}\\nfil#{row - start_row}',\n",
    "                    title='Image' if (row == 0) else None\n",
    "                )\n",
    "                row += 1\n",
    "\n",
    "        for ax in axes.flat:\n",
    "            ax.label_outer()\n",
    "\n",
    "        plt.tight_layout()\n",
    "        return fig\n",
    "\n",
    "    def correct(self, x, y, threshold=.5):\n",
    "        self.model.eval()\n",
    "        yhat = self.model(x.to(self.device))\n",
    "        y = y.to(self.device)\n",
    "        self.model.train()\n",
    "\n",
    "        # We get the size of the batch and the number of classes\n",
    "        # (only 1, if it is binary)\n",
    "        n_samples, n_dims = yhat.shape\n",
    "        if n_dims > 1:\n",
    "            # In a multiclass classification, the biggest logit\n",
    "            # always wins, so we don't bother getting probabilities\n",
    "\n",
    "            # This is PyTorch's version of argmax,\n",
    "            # but it returns a tuple: (max value, index of max value)\n",
    "            _, predicted = torch.max(yhat, 1)\n",
    "        else:\n",
    "            n_dims += 1\n",
    "            # In binary classification, we NEED to check if the\n",
    "            # last layer is a sigmoid (and then it produces probs)\n",
    "            if isinstance(self.model, nn.Sequential) and \\\n",
    "                    isinstance(self.model[-1], nn.Sigmoid):\n",
    "                predicted = (yhat > threshold).long()\n",
    "            # or something else (logits), which we need to convert\n",
    "            # using a sigmoid\n",
    "            else:\n",
    "                predicted = (F.sigmoid(yhat) > threshold).long()\n",
    "\n",
    "        # How many samples got classified correctly for each class\n",
    "        result = []\n",
    "        for c in range(n_dims):\n",
    "            n_class = (y == c).sum().item()\n",
    "            n_correct = (predicted[y == c] == c).sum().item()\n",
    "            result.append((n_correct, n_class))\n",
    "        return torch.tensor(result)\n",
    "\n",
    "    @staticmethod\n",
    "    def loader_apply(loader, func, reduce='sum'):\n",
    "        results = [func(x, y) for i, (x, y) in enumerate(loader)]\n",
    "        results = torch.stack(results, axis=0)\n",
    "\n",
    "        if reduce == 'sum':\n",
    "            results = results.sum(axis=0)\n",
    "        elif reduce == 'mean':\n",
    "            results = results.float().mean(axis=0)\n",
    "\n",
    "        return results\n",
    "\n",
    "    @staticmethod\n",
    "    def statistics_per_channel(images, labels):\n",
    "        # NCHW\n",
    "        n_samples, n_channels, n_height, n_weight = images.size()\n",
    "        # Flatten HW into a single dimension\n",
    "        flatten_per_channel = images.reshape(n_samples, n_channels, -1)\n",
    "\n",
    "        # Computes statistics of each image per channel\n",
    "        # Average pixel value per channel\n",
    "        # (n_samples, n_channels)\n",
    "        means = flatten_per_channel.mean(axis=2)\n",
    "        # Standard deviation of pixel values per channel\n",
    "        # (n_samples, n_channels)\n",
    "        stds = flatten_per_channel.std(axis=2)\n",
    "\n",
    "        # Adds up statistics of all images in a mini-batch\n",
    "        # (1, n_channels)\n",
    "        sum_means = means.sum(axis=0)\n",
    "        sum_stds = stds.sum(axis=0)\n",
    "        # Makes a tensor of shape (1, n_channels)\n",
    "        # with the number of samples in the mini-batch\n",
    "        n_samples = torch.tensor([n_samples] * n_channels).float()\n",
    "\n",
    "        # Stack the three tensors on top of one another\n",
    "        # (3, n_channels)\n",
    "        return torch.stack([n_samples, sum_means, sum_stds], axis=0)\n",
    "\n",
    "    @staticmethod\n",
    "    def make_normalizer(loader):\n",
    "        total_samples, total_means, total_stds = Architecture.loader_apply(loader, Architecture.statistics_per_channel)\n",
    "        norm_mean = total_means / total_samples\n",
    "        norm_std = total_stds / total_samples\n",
    "        return Normalize(mean=norm_mean, std=norm_std)\n",
    "\n",
    "    def lr_range_test(self, data_loader, end_lr, num_iter=100, step_mode='exp', alpha=0.05, ax=None):\n",
    "        # Since the test updates both model and optimizer we need to store\n",
    "        # their initial states to restore them in the end\n",
    "        previous_states = {'model': deepcopy(self.model.state_dict()),\n",
    "                           'optimizer': deepcopy(self.optimizer.state_dict())}\n",
    "        # Retrieves the learning rate set in the optimizer\n",
    "        start_lr = self.optimizer.state_dict()['param_groups'][0]['lr']\n",
    "\n",
    "        # Builds a custom function and corresponding scheduler\n",
    "        lr_fn = self.make_lr_fn(start_lr, end_lr, num_iter)\n",
    "        scheduler = LambdaLR(self.optimizer, lr_lambda=lr_fn)\n",
    "\n",
    "        # Variables for tracking results and iterations\n",
    "        tracking = {'loss': [], 'lr': []}\n",
    "        iteration = 0\n",
    "\n",
    "        # If there are more iterations than mini-batches in the data loader,\n",
    "        # it will have to loop over it more than once\n",
    "        while (iteration < num_iter):\n",
    "            # That's the typical mini-batch inner loop\n",
    "            for x_batch, y_batch in data_loader:\n",
    "                x_batch = x_batch.to(self.device)\n",
    "                y_batch = y_batch.to(self.device)\n",
    "                # Step 1\n",
    "                yhat = self.model(x_batch)\n",
    "                # Step 2\n",
    "                loss = self.loss_fn(yhat, y_batch)\n",
    "                # Step 3\n",
    "                loss.backward()\n",
    "\n",
    "                # Here we keep track of the losses (smoothed)\n",
    "                # and the learning rates\n",
    "                tracking['lr'].append(scheduler.get_last_lr()[0])\n",
    "                if iteration == 0:\n",
    "                    tracking['loss'].append(loss.item())\n",
    "                else:\n",
    "                    prev_loss = tracking['loss'][-1]\n",
    "                    smoothed_loss = alpha * loss.item() + (1 - alpha) * prev_loss\n",
    "                    tracking['loss'].append(smoothed_loss)\n",
    "\n",
    "                iteration += 1\n",
    "                # Number of iterations reached\n",
    "                if iteration == num_iter:\n",
    "                    break\n",
    "\n",
    "                # Step 4\n",
    "                self.optimizer.step()\n",
    "                scheduler.step()\n",
    "                self.optimizer.zero_grad()\n",
    "\n",
    "        # Restores the original states\n",
    "        self.optimizer.load_state_dict(previous_states['optimizer'])\n",
    "        self.model.load_state_dict(previous_states['model'])\n",
    "\n",
    "        if ax is None:\n",
    "            fig, ax = plt.subplots(1, 1, figsize=(6, 4))\n",
    "        else:\n",
    "            fig = ax.get_figure()\n",
    "        ax.plot(tracking['lr'], tracking['loss'])\n",
    "        if step_mode == 'exp':\n",
    "            ax.set_xscale('log')\n",
    "        ax.set_xlabel('Learning Rate')\n",
    "        ax.set_ylabel('Loss')\n",
    "        fig.tight_layout()\n",
    "        return tracking, fig\n",
    "\n",
    "    def set_optimizer(self, optimizer):\n",
    "        self.optimizer = optimizer"
   ],
   "metadata": {
    "id": "tYxCEnws8T7L",
    "ExecuteTime": {
     "end_time": "2025-07-24T23:30:15.709249Z",
     "start_time": "2025-07-24T23:30:15.684134Z"
    }
   },
   "outputs": [],
   "execution_count": 668
  },
  {
   "cell_type": "markdown",
   "source": [
    "# Data Generation"
   ],
   "metadata": {
    "id": "_Ht9VCubz7DU"
   }
  },
  {
   "cell_type": "markdown",
   "source": "This dataset was created by Mahsa Sanaei and can be found in his site: [Animal Image Dataset - Cats, Dogs, and Foxes](https://www.kaggle.com/datasets/snmahsa/animal-image-dataset-cats-dogs-and-foxes).\n",
   "metadata": {
    "id": "14goKgXj0CwA"
   }
  },
  {
   "cell_type": "code",
   "source": [
    "def figure1(folder='train'):\n",
    "    dog = Image.open(f'{folder}/dog/0GVBGXNFKFO8.jpg')\n",
    "    cat = Image.open(f'{folder}/cat/0ARKXCXCK9R2.jpg')\n",
    "    hare = Image.open(f'{folder}/hare/0A3F79OMKWJW.jpg')\n",
    "\n",
    "    images = [cat, dog, hare]\n",
    "    titles = ['dog', 'cat', 'hare']\n",
    "\n",
    "    fig, axs = plt.subplots(1, 3, figsize=(12, 5))\n",
    "    for ax, image, title in zip(axs, images, titles):\n",
    "        ax.imshow(image)\n",
    "        ax.set_xticks([])\n",
    "        ax.set_yticks([])\n",
    "        ax.set_title(title)\n",
    "\n",
    "    return fig"
   ],
   "metadata": {
    "id": "vxA6hZl_ys8D",
    "ExecuteTime": {
     "end_time": "2025-07-24T23:30:15.731316Z",
     "start_time": "2025-07-24T23:30:15.729019Z"
    }
   },
   "outputs": [],
   "execution_count": 669
  },
  {
   "cell_type": "code",
   "source": [
    "fig = figure1()"
   ],
   "metadata": {
    "colab": {
     "base_uri": "https://localhost:8080/",
     "height": 374
    },
    "id": "_SRQZfCay1fs",
    "outputId": "ad2bc82d-f856-404d-8539-895658347fdb",
    "ExecuteTime": {
     "end_time": "2025-07-24T23:30:15.790308Z",
     "start_time": "2025-07-24T23:30:15.751756Z"
    }
   },
   "outputs": [
    {
     "data": {
      "text/plain": [
       "<Figure size 1200x500 with 3 Axes>"
      ],
      "image/png": "[encoded data removed]"
     },
     "metadata": {},
     "output_type": "display_data"
    }
   ],
   "execution_count": 670
  },
  {
   "cell_type": "markdown",
   "metadata": {
    "id": "R9wh98Ryx7Pd"
   },
   "source": [
    "# Data Preparation"
   ]
  },
  {
   "cell_type": "markdown",
   "metadata": {
    "id": "JPpGYgTYx7Pe"
   },
   "source": [
    "## ImageFolder"
   ]
  },
  {
   "metadata": {
    "id": "usfX4Pymx7Pe",
    "ExecuteTime": {
     "end_time": "2025-07-24T23:30:15.811357Z",
     "start_time": "2025-07-24T23:30:15.806863Z"
    }
   },
   "cell_type": "code",
   "source": [
    "# Compose a sequence of preprocessing transforms\n",
    "# 1) Resize images to 28×28 pixels\n",
    "# 2) Ensure output is a PIL/torchvision Image (dropping any alpha channel)\n",
    "# 3) Convert pixel values to float32 and scale from [0–255] to [0.0–1.0]\n",
    "temp_transform = Compose([\n",
    "    ToImage(),  # Convert tensor back to PIL Image (enforces RGB)\n",
    "    ToDtype(torch.float32, scale=True)  # Cast to float32 and normalize pixel range\n",
    "])\n",
    "\n",
    "# Create an ImageFolder dataset from the 'train' directory\n",
    "# Images are grouped by subfolder name as class labels, and each image is transformed\n",
    "temp_dataset = ImageFolder(\n",
    "    root=TRAIN_DIR,\n",
    "    transform=temp_transform  # Apply the preprocessing pipeline to every image\n",
    ")"
   ],
   "outputs": [],
   "execution_count": 671
  },
  {
   "cell_type": "code",
   "metadata": {
    "id": "QKTSUQSSx7Pe",
    "outputId": "c5bfd8e1-9a5a-4bb2-9d94-fafedc9beac6",
    "colab": {
     "base_uri": "https://localhost:8080/"
    },
    "ExecuteTime": {
     "end_time": "2025-07-24T23:30:15.844511Z",
     "start_time": "2025-07-24T23:30:15.841116Z"
    }
   },
   "source": [
    "# the second element of this tuple is the label\n",
    "temp_dataset[0][0].shape, temp_dataset[0][1]"
   ],
   "outputs": [
    {
     "data": {
      "text/plain": [
       "(torch.Size([3, 32, 32]), 0)"
      ]
     },
     "execution_count": 672,
     "metadata": {},
     "output_type": "execute_result"
    }
   ],
   "execution_count": 672
  },
  {
   "cell_type": "code",
   "source": [
    "temp_dataset[0][0]"
   ],
   "metadata": {
    "colab": {
     "base_uri": "https://localhost:8080/"
    },
    "id": "eOPvDL09AEnV",
    "outputId": "52f94d09-1b6d-48a6-9f26-9eb2ce28c002",
    "ExecuteTime": {
     "end_time": "2025-07-24T23:30:15.863133Z",
     "start_time": "2025-07-24T23:30:15.860014Z"
    }
   },
   "outputs": [
    {
     "data": {
      "text/plain": [
       "Image([[[0.6471, 0.6588, 0.6706,  ..., 0.6275, 0.6118, 0.6078],\n",
       "        [0.6118, 0.6314, 0.6745,  ..., 0.6706, 0.6314, 0.6118],\n",
       "        [0.5961, 0.6078, 0.6549,  ..., 0.6471, 0.6275, 0.6196],\n",
       "        ...,\n",
       "        [0.7216, 0.7294, 0.7451,  ..., 0.7804, 0.7529, 0.7529],\n",
       "        [0.7137, 0.7176, 0.7490,  ..., 0.7882, 0.7843, 0.7647],\n",
       "        [0.7137, 0.7137, 0.7451,  ..., 0.7725, 0.7765, 0.7608]],\n",
       "\n",
       "       [[0.5294, 0.5412, 0.5529,  ..., 0.5255, 0.5176, 0.5137],\n",
       "        [0.4941, 0.5137, 0.5569,  ..., 0.5765, 0.5373, 0.5255],\n",
       "        [0.4824, 0.4941, 0.5412,  ..., 0.5686, 0.5490, 0.5412],\n",
       "        ...,\n",
       "        [0.6275, 0.6275, 0.6275,  ..., 0.6863, 0.6706, 0.6706],\n",
       "        [0.6235, 0.6235, 0.6314,  ..., 0.6863, 0.6902, 0.6745],\n",
       "        [0.6353, 0.6196, 0.6275,  ..., 0.6706, 0.6745, 0.6627]],\n",
       "\n",
       "       [[0.3882, 0.3922, 0.4039,  ..., 0.3961, 0.3765, 0.3725],\n",
       "        [0.3608, 0.3725, 0.4157,  ..., 0.4431, 0.3961, 0.3804],\n",
       "        [0.3647, 0.3686, 0.4157,  ..., 0.4314, 0.4118, 0.4039],\n",
       "        ...,\n",
       "        [0.4941, 0.4902, 0.4863,  ..., 0.5843, 0.5569, 0.5569],\n",
       "        [0.4980, 0.4902, 0.4980,  ..., 0.5882, 0.5804, 0.5529],\n",
       "        [0.5059, 0.4863, 0.4941,  ..., 0.5647, 0.5686, 0.5451]]], )"
      ]
     },
     "execution_count": 673,
     "metadata": {},
     "output_type": "execute_result"
    }
   ],
   "execution_count": 673
  },
  {
   "cell_type": "code",
   "source": [
    "# you have 1386 images\n",
    "temp_dataset[1385][0].shape"
   ],
   "metadata": {
    "colab": {
     "base_uri": "https://localhost:8080/"
    },
    "id": "RGK-y5KAKymI",
    "outputId": "1bd8589f-4156-49e7-9d32-c6e1290ee9a7",
    "ExecuteTime": {
     "end_time": "2025-07-24T23:30:15.902159Z",
     "start_time": "2025-07-24T23:30:15.899621Z"
    }
   },
   "outputs": [
    {
     "data": {
      "text/plain": [
       "torch.Size([3, 32, 32])"
      ]
     },
     "execution_count": 674,
     "metadata": {},
     "output_type": "execute_result"
    }
   ],
   "execution_count": 674
  },
  {
   "cell_type": "code",
   "source": [
    "# Get total number of samples in the dataset\n",
    "dataset_size = len(temp_dataset)\n",
    "print(f\"Dataset size: {dataset_size} images\")\n",
    "\n",
    "# Get number of classes\n",
    "num_classes = len(temp_dataset.classes)\n",
    "print(f\"Number of classes: {num_classes}\")"
   ],
   "metadata": {
    "colab": {
     "base_uri": "https://localhost:8080/"
    },
    "id": "Ye2yR6BLAxys",
    "outputId": "1c2a615f-f55d-42c0-b3ed-1504cdfc55fa",
    "ExecuteTime": {
     "end_time": "2025-07-24T23:30:15.937916Z",
     "start_time": "2025-07-24T23:30:15.935912Z"
    }
   },
   "outputs": [
    {
     "name": "stdout",
     "output_type": "stream",
     "text": [
      "Dataset size: 1386 images\n",
      "Number of classes: 3\n"
     ]
    }
   ],
   "execution_count": 675
  },
  {
   "cell_type": "markdown",
   "metadata": {
    "id": "DnqFv6gyx7Pe"
   },
   "source": [
    "## Standardization"
   ]
  },
  {
   "cell_type": "code",
   "metadata": {
    "id": "UgMwU7Spx7Pe",
    "ExecuteTime": {
     "end_time": "2025-07-24T23:30:15.977796Z",
     "start_time": "2025-07-24T23:30:15.975214Z"
    }
   },
   "source": [
    "temp_loader = DataLoader(temp_dataset, batch_size=16)\n",
    "print(temp_loader.dataset)"
   ],
   "outputs": [
    {
     "name": "stdout",
     "output_type": "stream",
     "text": [
      "Dataset ImageFolder\n",
      "    Number of datapoints: 1386\n",
      "    Root location: train\n",
      "    StandardTransform\n",
      "Transform: Compose(\n",
      "                 ToImage()\n",
      "                 ToDtype(scale=True)\n",
      "           )\n"
     ]
    }
   ],
   "execution_count": 676
  },
  {
   "cell_type": "code",
   "metadata": {
    "id": "t-Eav2U_x7Pe",
    "outputId": "c31062bf-e71b-48bf-bd98-c044309495cc",
    "colab": {
     "base_uri": "https://localhost:8080/"
    },
    "ExecuteTime": {
     "end_time": "2025-07-24T23:30:16.044309Z",
     "start_time": "2025-07-24T23:30:16.035632Z"
    }
   },
   "source": [
    "# Each column represents a channel\n",
    "# first row is the number of data points\n",
    "# second row is the sum of mean values\n",
    "# third row is the sum of standard deviations\n",
    "first_images, first_labels = next(iter(temp_loader))\n",
    "Architecture.statistics_per_channel(first_images, first_labels)"
   ],
   "outputs": [
    {
     "data": {
      "text/plain": [
       "tensor([[16.0000, 16.0000, 16.0000],\n",
       "        [ 7.5313,  7.2326,  6.8554],\n",
       "        [ 3.5431,  3.6000,  3.6349]])"
      ]
     },
     "execution_count": 677,
     "metadata": {},
     "output_type": "execute_result"
    }
   ],
   "execution_count": 677
  },
  {
   "cell_type": "code",
   "metadata": {
    "id": "XXu6vXn8x7Pf",
    "outputId": "40dc78b2-4483-4c4b-a88a-1749c1a8634c",
    "colab": {
     "base_uri": "https://localhost:8080/"
    },
    "ExecuteTime": {
     "end_time": "2025-07-24T23:30:16.358841Z",
     "start_time": "2025-07-24T23:30:16.101387Z"
    }
   },
   "source": [
    "# We can leverage the loader_apply() method to get the sums for the whole dataset:\n",
    "results = Architecture.loader_apply(temp_loader, Architecture.statistics_per_channel)\n",
    "results"
   ],
   "outputs": [
    {
     "data": {
      "text/plain": [
       "tensor([[1386.0000, 1386.0000, 1386.0000],\n",
       "        [ 721.0686,  692.0674,  576.5925],\n",
       "        [ 264.9309,  261.7419,  266.0573]])"
      ]
     },
     "execution_count": 678,
     "metadata": {},
     "output_type": "execute_result"
    }
   ],
   "execution_count": 678
  },
  {
   "cell_type": "code",
   "source": "2142.5356 / 2520",
   "metadata": {
    "colab": {
     "base_uri": "https://localhost:8080/"
    },
    "id": "JK786LlevjjO",
    "outputId": "03efde29-7241-4681-8eff-ec642d6ac461",
    "ExecuteTime": {
     "end_time": "2025-07-24T23:30:16.421248Z",
     "start_time": "2025-07-24T23:30:16.419055Z"
    }
   },
   "outputs": [
    {
     "data": {
      "text/plain": [
       "0.8502125396825397"
      ]
     },
     "execution_count": 679,
     "metadata": {},
     "output_type": "execute_result"
    }
   ],
   "execution_count": 679
  },
  {
   "cell_type": "code",
   "source": "526.3025 / 2520",
   "metadata": {
    "colab": {
     "base_uri": "https://localhost:8080/"
    },
    "id": "yulsHh6Fvtff",
    "outputId": "5cd33652-dc92-4003-a16c-0ae9aeba85ee",
    "ExecuteTime": {
     "end_time": "2025-07-24T23:30:16.474508Z",
     "start_time": "2025-07-24T23:30:16.472169Z"
    }
   },
   "outputs": [
    {
     "data": {
      "text/plain": [
       "0.20885019841269842"
      ]
     },
     "execution_count": 680,
     "metadata": {},
     "output_type": "execute_result"
    }
   ],
   "execution_count": 680
  },
  {
   "cell_type": "code",
   "metadata": {
    "id": "eWfYfTQZx7Pf",
    "outputId": "8d243385-a464-4abd-9228-b7840106be5f",
    "colab": {
     "base_uri": "https://localhost:8080/"
    },
    "ExecuteTime": {
     "end_time": "2025-07-24T23:30:16.692216Z",
     "start_time": "2025-07-24T23:30:16.523294Z"
    }
   },
   "source": [
    "# we can compute the average mean value and the average standard deviation, per channel.\n",
    "# Better yet, let’s make it a method that takes a data loader and\n",
    "# returns an instance of the Normalize() transform\n",
    "normalizer = Architecture.make_normalizer(temp_loader)\n",
    "normalizer"
   ],
   "outputs": [
    {
     "data": {
      "text/plain": [
       "Normalize(mean=[tensor(0.5203), tensor(0.4993), tensor(0.4160)], std=[tensor(0.1911), tensor(0.1888), tensor(0.1920)], inplace=False)"
      ]
     },
     "execution_count": 681,
     "metadata": {},
     "output_type": "execute_result"
    }
   ],
   "execution_count": 681
  },
  {
   "cell_type": "markdown",
   "source": [
    "> Remember that PyTorch converts the pixel values into the [0, 1] range. The average mean value of a pixel for the red (first) channel is 0.8502, while its average standard deviation is 0.2089."
   ],
   "metadata": {
    "id": "SVk-FutYwt00"
   }
  },
  {
   "cell_type": "markdown",
   "source": [
    ">> **IMPORTANT**: Always use the training set to compute statistics\n",
    "for standardization! This avoid data leakage!!!"
   ],
   "metadata": {
    "id": "pxBYRaX4xOfl"
   }
  },
  {
   "cell_type": "markdown",
   "metadata": {
    "id": "OewfD2eLx7Pf"
   },
   "source": [
    "## The Real Datasets"
   ]
  },
  {
   "cell_type": "code",
   "metadata": {
    "id": "hy5Gz8sgx7Pf",
    "ExecuteTime": {
     "end_time": "2025-07-24T23:30:16.717434Z",
     "start_time": "2025-07-24T23:30:16.711731Z"
    }
   },
   "source": [
    "# Define a pipeline of image transformations:\n",
    "# 1) Resize each image to 28×28 pixels\n",
    "# 2) Ensure the output is a PIL/torchvision image (dropping any alpha channel)\n",
    "# 3) Cast pixels to float32 and scale from [0–255] to [0.0–1.0]\n",
    "# 4) Apply the user-defined normalization (e.g., mean/std normalization)\n",
    "composer = Compose([\n",
    "    ToImage(),  # Convert to PIL Image in RGB\n",
    "    ToDtype(torch.float32, scale=True),  # Cast to float32 and normalize to [0,1]\n",
    "    normalizer  # Apply custom normalization transform\n",
    "])\n",
    "\n",
    "# Instantiate training and validation datasets from folders:\n",
    "# - 'train' contains subfolders per class for training\n",
    "# - 'test' likewise for validation\n",
    "train_data = ImageFolder(root=TRAIN_DIR, transform=composer)\n",
    "val_data = ImageFolder(root=TEST_DIR, transform=composer)\n",
    "\n",
    "# Wrap datasets in DataLoaders for batching and shuffling:\n",
    "# - batch_size=16 yields mini-batches of 16 images\n",
    "# - shuffle=True randomizes training order each epoch\n",
    "train_loader = DataLoader(train_data, batch_size=16, shuffle=True)\n",
    "val_loader = DataLoader(val_data, batch_size=16)  # no shuffle for validation"
   ],
   "outputs": [],
   "execution_count": 682
  },
  {
   "cell_type": "code",
   "source": [
    "def figure2(first_images, first_labels):\n",
    "    fig, axs = plt.subplots(1, 6, figsize=(12, 4))\n",
    "    titles = ['Cat', 'Dog', 'Hare']\n",
    "    for i in range(6):\n",
    "        image, label = ToPILImage()(first_images[i]), first_labels[i]\n",
    "        axs[i].imshow(image)\n",
    "        axs[i].set_xticks([])\n",
    "        axs[i].set_yticks([])\n",
    "        axs[i].set_title(titles[label], fontsize=12)\n",
    "    fig.tight_layout()\n",
    "    return fig"
   ],
   "metadata": {
    "id": "CMKSojnWycbe",
    "ExecuteTime": {
     "end_time": "2025-07-24T23:30:16.734320Z",
     "start_time": "2025-07-24T23:30:16.732053Z"
    }
   },
   "outputs": [],
   "execution_count": 683
  },
  {
   "cell_type": "code",
   "metadata": {
    "id": "W9RgYxnAx7Pf",
    "outputId": "fa093508-2d5c-4bbc-d360-4a853170f3bd",
    "colab": {
     "base_uri": "https://localhost:8080/",
     "height": 234
    },
    "ExecuteTime": {
     "end_time": "2025-07-24T23:30:16.826965Z",
     "start_time": "2025-07-24T23:30:16.755747Z"
    }
   },
   "source": [
    "torch.manual_seed(88)\n",
    "first_images, first_labels = next(iter(train_loader))\n",
    "\n",
    "fig = figure2(first_images, first_labels)"
   ],
   "outputs": [
    {
     "data": {
      "text/plain": [
       "<Figure size 1200x400 with 6 Axes>"
      ],
      "image/png": "[encoded data removed]"
     },
     "metadata": {},
     "output_type": "display_data"
    }
   ],
   "execution_count": 684
  },
  {
   "cell_type": "markdown",
   "source": [
    "There is nothing wrong with the colors, it is just the effect of the standardization\n",
    "of the pixel values."
   ],
   "metadata": {
    "id": "Tl0_Fj1mzXSr"
   }
  },
  {
   "cell_type": "markdown",
   "metadata": {
    "id": "hD_x04VMx7Pg"
   },
   "source": [
    "# Dropout"
   ]
  },
  {
   "cell_type": "code",
   "metadata": {
    "id": "XXh3noA5x7Pg",
    "ExecuteTime": {
     "end_time": "2025-07-24T23:30:16.833558Z",
     "start_time": "2025-07-24T23:30:16.831817Z"
    }
   },
   "source": [
    "dropping_model = nn.Sequential(nn.Dropout(p=0.5))"
   ],
   "outputs": [],
   "execution_count": 685
  },
  {
   "cell_type": "code",
   "metadata": {
    "id": "wdcWGZVSx7Pg",
    "outputId": "01ff3b12-912a-45ee-d8e0-5edc97ddcc9f",
    "colab": {
     "base_uri": "https://localhost:8080/"
    },
    "ExecuteTime": {
     "end_time": "2025-07-24T23:30:16.868273Z",
     "start_time": "2025-07-24T23:30:16.865814Z"
    }
   },
   "source": [
    "spaced_points = torch.linspace(.1, 1.1, 11)\n",
    "spaced_points"
   ],
   "outputs": [
    {
     "data": {
      "text/plain": [
       "tensor([0.1000, 0.2000, 0.3000, 0.4000, 0.5000, 0.6000, 0.7000, 0.8000, 0.9000,\n",
       "        1.0000, 1.1000])"
      ]
     },
     "execution_count": 686,
     "metadata": {},
     "output_type": "execute_result"
    }
   ],
   "execution_count": 686
  },
  {
   "cell_type": "code",
   "metadata": {
    "id": "va4VDD9kx7Pg",
    "outputId": "76d6d7ca-a73a-48ce-ef61-5f4351255d70",
    "colab": {
     "base_uri": "https://localhost:8080/"
    },
    "ExecuteTime": {
     "end_time": "2025-07-24T23:30:16.926539Z",
     "start_time": "2025-07-24T23:30:16.923502Z"
    }
   },
   "source": [
    "torch.manual_seed(44)\n",
    "\n",
    "dropping_model.train()\n",
    "output_train = dropping_model(spaced_points)\n",
    "output_train"
   ],
   "outputs": [
    {
     "data": {
      "text/plain": [
       "tensor([0.0000, 0.0000, 0.6000, 0.8000, 0.0000, 0.0000, 1.4000, 0.0000, 1.8000,\n",
       "        2.0000, 2.2000])"
      ]
     },
     "execution_count": 687,
     "metadata": {},
     "output_type": "execute_result"
    }
   ],
   "execution_count": 687
  },
  {
   "cell_type": "code",
   "metadata": {
    "id": "J9hlMdxIx7Pg",
    "outputId": "e3c5347c-8a6d-46de-f04c-fe5d852a72c0",
    "colab": {
     "base_uri": "https://localhost:8080/"
    },
    "ExecuteTime": {
     "end_time": "2025-07-24T23:30:16.990494Z",
     "start_time": "2025-07-24T23:30:16.987922Z"
    }
   },
   "source": [
    "output_train / spaced_points"
   ],
   "outputs": [
    {
     "data": {
      "text/plain": [
       "tensor([0., 0., 2., 2., 0., 0., 2., 0., 2., 2., 2.])"
      ]
     },
     "execution_count": 688,
     "metadata": {},
     "output_type": "execute_result"
    }
   ],
   "execution_count": 688
  },
  {
   "cell_type": "code",
   "metadata": {
    "id": "1oIRNcxUx7Pg",
    "outputId": "e364846f-20f9-428e-9c7a-1ede94423811",
    "colab": {
     "base_uri": "https://localhost:8080/"
    },
    "ExecuteTime": {
     "end_time": "2025-07-24T23:30:17.020794Z",
     "start_time": "2025-07-24T23:30:17.018175Z"
    }
   },
   "source": [
    "F.linear(output_train, weight=torch.ones(11), bias=torch.tensor(0))"
   ],
   "outputs": [
    {
     "data": {
      "text/plain": [
       "tensor(8.8000)"
      ]
     },
     "execution_count": 689,
     "metadata": {},
     "output_type": "execute_result"
    }
   ],
   "execution_count": 689
  },
  {
   "cell_type": "code",
   "metadata": {
    "id": "wGlYi6f4x7Pl",
    "outputId": "76140e7b-1e49-4a4f-9bc2-1fd4e0e09a21",
    "colab": {
     "base_uri": "https://localhost:8080/"
    },
    "ExecuteTime": {
     "end_time": "2025-07-24T23:30:17.054100Z",
     "start_time": "2025-07-24T23:30:17.051620Z"
    }
   },
   "source": [
    "dropping_model.eval()\n",
    "output_eval = dropping_model(spaced_points)\n",
    "output_eval"
   ],
   "outputs": [
    {
     "data": {
      "text/plain": [
       "tensor([0.1000, 0.2000, 0.3000, 0.4000, 0.5000, 0.6000, 0.7000, 0.8000, 0.9000,\n",
       "        1.0000, 1.1000])"
      ]
     },
     "execution_count": 690,
     "metadata": {},
     "output_type": "execute_result"
    }
   ],
   "execution_count": 690
  },
  {
   "cell_type": "code",
   "metadata": {
    "id": "OETSw5eex7Pl",
    "outputId": "72533a7e-baa9-4b5b-ec1a-94eda4b5a8f4",
    "colab": {
     "base_uri": "https://localhost:8080/"
    },
    "ExecuteTime": {
     "end_time": "2025-07-24T23:30:17.103554Z",
     "start_time": "2025-07-24T23:30:17.100904Z"
    }
   },
   "source": [
    "F.linear(output_eval, weight=torch.ones(11), bias=torch.tensor(0))"
   ],
   "outputs": [
    {
     "data": {
      "text/plain": [
       "tensor(6.6000)"
      ]
     },
     "execution_count": 691,
     "metadata": {},
     "output_type": "execute_result"
    }
   ],
   "execution_count": 691
  },
  {
   "cell_type": "code",
   "metadata": {
    "id": "Fc0p5QRYx7Pl",
    "ExecuteTime": {
     "end_time": "2025-07-24T23:30:17.154098Z",
     "start_time": "2025-07-24T23:30:17.143198Z"
    }
   },
   "source": [
    "torch.manual_seed(17)\n",
    "p = 0.5\n",
    "distrib_outputs = torch.tensor([F.linear(F.dropout(spaced_points, p=p),\n",
    "                                         weight=torch.ones(11), bias=torch.tensor(0))\n",
    "                                for _ in range(1000)])"
   ],
   "outputs": [],
   "execution_count": 692
  },
  {
   "cell_type": "code",
   "source": [
    "def plot_dist(ax, distrib_outputs, p):\n",
    "    ax.hist(distrib_outputs, bins=np.linspace(0, 20, 21))\n",
    "    ax.set_xlabel('Sum of Adjusted Outputs')\n",
    "    ax.set_ylabel('# of Scenarios')\n",
    "    ax.set_title('p = {:.2f}'.format(p))\n",
    "    ax.set_ylim([0, 500])\n",
    "    mean_value = distrib_outputs.mean()\n",
    "    ax.plot([mean_value, mean_value], [0, 500], c='r', linestyle='--', label='Mean = {:.2f}'.format(mean_value))\n",
    "    ax.legend()"
   ],
   "metadata": {
    "id": "lA4M1GJ-nrc0",
    "ExecuteTime": {
     "end_time": "2025-07-24T23:30:17.177550Z",
     "start_time": "2025-07-24T23:30:17.175377Z"
    }
   },
   "outputs": [],
   "execution_count": 693
  },
  {
   "cell_type": "code",
   "source": [
    "def figure7(p, distrib_outputs):\n",
    "    fig, ax = plt.subplots(1, 1, figsize=(6, 4))\n",
    "    plot_dist(ax, distrib_outputs, p)\n",
    "    fig.tight_layout()\n",
    "    return fig"
   ],
   "metadata": {
    "id": "4PdaeVRMnhiI",
    "ExecuteTime": {
     "end_time": "2025-07-24T23:30:17.198524Z",
     "start_time": "2025-07-24T23:30:17.196901Z"
    }
   },
   "outputs": [],
   "execution_count": 694
  },
  {
   "cell_type": "code",
   "metadata": {
    "scrolled": false,
    "id": "sR84E6Axx7Pl",
    "outputId": "1ba99a2f-5550-4e73-a627-967cf614f3bd",
    "colab": {
     "base_uri": "https://localhost:8080/",
     "height": 395
    },
    "ExecuteTime": {
     "end_time": "2025-07-24T23:30:17.282347Z",
     "start_time": "2025-07-24T23:30:17.218603Z"
    }
   },
   "source": [
    "fig = figure7(p, distrib_outputs)"
   ],
   "outputs": [
    {
     "data": {
      "text/plain": [
       "<Figure size 600x400 with 1 Axes>"
      ],
      "image/png": "[encoded data removed]"
     },
     "metadata": {},
     "output_type": "display_data"
    }
   ],
   "execution_count": 695
  },
  {
   "cell_type": "code",
   "source": [
    "def figure8(ps=(0.1, 0.3, 0.5, 0.9)):\n",
    "    spaced_points = torch.linspace(.1, 1.1, 11)\n",
    "    fig, axs = plt.subplots(1, 4, figsize=(15, 4))\n",
    "    for ax, p in zip(axs.flat, ps):\n",
    "        torch.manual_seed(17)\n",
    "        distrib_outputs = torch.tensor([F.linear(F.dropout(spaced_points, p=p),\n",
    "                                                 weight=torch.ones(11), bias=torch.tensor(0))\n",
    "                                        for _ in range(1000)])\n",
    "        plot_dist(ax, distrib_outputs, p)\n",
    "        ax.label_outer()\n",
    "    fig.tight_layout()\n",
    "    return fig"
   ],
   "metadata": {
    "id": "8cCEhlrwn69w",
    "ExecuteTime": {
     "end_time": "2025-07-24T23:30:17.301477Z",
     "start_time": "2025-07-24T23:30:17.298568Z"
    }
   },
   "outputs": [],
   "execution_count": 696
  },
  {
   "cell_type": "markdown",
   "source": [
    "On the left, if there is barely any dropout (p=0.10), the sum of adjusted outputs is\n",
    "tightly distributed around the mean value. For more typical dropout probabilities\n",
    "(like 30% or 50%), the distribution may take some more extreme values.\n",
    "\n",
    "\n",
    "If we go to extremes, like a dropout probability of 90%, the distribution gets a bit\n",
    "degenerated, I would say—it is pretty much all over the place (and it has a lot of\n",
    "scenarios where everything gets dropped, hence the tall bar at zero)."
   ],
   "metadata": {
    "id": "zZbPZwW66Oi5"
   }
  },
  {
   "cell_type": "code",
   "metadata": {
    "id": "3D87xmNRx7Pl",
    "outputId": "f6f465a1-ddbf-4ee9-cc02-649c0cee8b94",
    "colab": {
     "base_uri": "https://localhost:8080/",
     "height": 320
    },
    "ExecuteTime": {
     "end_time": "2025-07-24T23:30:17.548134Z",
     "start_time": "2025-07-24T23:30:17.315387Z"
    }
   },
   "source": [
    "fig = figure8()"
   ],
   "outputs": [
    {
     "data": {
      "text/plain": [
       "<Figure size 1500x400 with 4 Axes>"
      ],
      "image/png": "[encoded data removed]"
     },
     "metadata": {},
     "output_type": "display_data"
    }
   ],
   "execution_count": 697
  },
  {
   "cell_type": "markdown",
   "source": [
    "The variance of the distribution of outputs grows with the\n",
    "dropout probability.\n",
    "\n",
    "\n",
    "A higher dropout probability makes it harder for your model to\n",
    "learn—that’s what regularization does."
   ],
   "metadata": {
    "id": "dSfdkNqV6pk1"
   }
  },
  {
   "cell_type": "markdown",
   "metadata": {
    "id": "WpeoEL1qx7Pl"
   },
   "source": [
    "### Two-Dimensional Dropout"
   ]
  },
  {
   "cell_type": "code",
   "source": [
    "def figure9(first_images, seed=17, p=.33):\n",
    "    torch.manual_seed(seed)\n",
    "    fig, axs = plt.subplots(1, 3, figsize=(12, 4))\n",
    "    axs[0].imshow(ToPILImage()(first_images[0]))\n",
    "    axs[0].set_title('Original Image')\n",
    "    axs[0].grid(False)\n",
    "    axs[0].set_xticks([])\n",
    "    axs[0].set_yticks([])\n",
    "    axs[1].imshow(ToPILImage()(F.dropout(first_images[:1], p=p)[0]))\n",
    "    axs[1].set_title('Regular Dropout')\n",
    "    axs[1].grid(False)\n",
    "    axs[1].set_xticks([])\n",
    "    axs[1].set_yticks([])\n",
    "    axs[2].imshow(ToPILImage()(F.dropout2d(first_images[:1], p=p)[0]))\n",
    "    axs[2].set_title('Two-Dimensional Dropout')\n",
    "    axs[2].grid(False)\n",
    "    axs[2].set_xticks([])\n",
    "    axs[2].set_yticks([])\n",
    "    fig.tight_layout()\n",
    "    return fig"
   ],
   "metadata": {
    "id": "795rXpRUIuUq",
    "ExecuteTime": {
     "end_time": "2025-07-24T23:30:17.567265Z",
     "start_time": "2025-07-24T23:30:17.564090Z"
    }
   },
   "outputs": [],
   "execution_count": 698
  },
  {
   "cell_type": "code",
   "metadata": {
    "id": "nP2fR4Q4x7Pl",
    "outputId": "0b8c26f5-99dd-4121-8029-97941058de51",
    "colab": {
     "base_uri": "https://localhost:8080/",
     "height": 403
    },
    "ExecuteTime": {
     "end_time": "2025-07-24T23:30:17.626967Z",
     "start_time": "2025-07-24T23:30:17.581341Z"
    }
   },
   "source": [
    "fig = figure9(first_images)"
   ],
   "outputs": [
    {
     "data": {
      "text/plain": [
       "<Figure size 1200x400 with 3 Axes>"
      ],
      "image/png": "[encoded data removed]"
     },
     "metadata": {},
     "output_type": "display_data"
    }
   ],
   "execution_count": 699
  },
  {
   "cell_type": "markdown",
   "metadata": {
    "id": "Zp9hamqkx7Pg"
   },
   "source": [
    "# Fancier Model"
   ]
  },
  {
   "cell_type": "markdown",
   "source": [
    "Let’s leave the Sequential model aside for now and build a model class again. This\n",
    "time, our constructor method will take two arguments: ``n_filters`` and ``p``. We’ll use\n",
    "``n_filters`` as the number of output channels for both convolutional blocks of our\n",
    "model (yes, there are two now!). And, as you can see from the code below, we’ll use\n",
    "``p`` as the probability of **dropout**."
   ],
   "metadata": {
    "id": "kj9Az9zIgs8l"
   }
  },
  {
   "cell_type": "code",
   "metadata": {
    "id": "-8w4MPnpx7Pg",
    "ExecuteTime": {
     "end_time": "2025-07-24T23:30:17.646890Z",
     "start_time": "2025-07-24T23:30:17.643185Z"
    }
   },
   "source": [
    "class CNN2(nn.Module):\n",
    "    def __init__(self, n_feature, p=0.0):\n",
    "        super(CNN2, self).__init__()\n",
    "        self.n_feature = n_feature\n",
    "        self.p = p\n",
    "        # Creates the convolution layers\n",
    "        self.conv1 = nn.Conv2d(in_channels=3,\n",
    "                               out_channels=n_feature,\n",
    "                               kernel_size=3)\n",
    "        self.conv2 = nn.Conv2d(in_channels=n_feature,\n",
    "                               out_channels=n_feature,\n",
    "                               kernel_size=3)\n",
    "        # Creates the linear layers\n",
    "        # Where do this 5 * 5 come from?! Check it below\n",
    "        self.fc1 = nn.Linear(n_feature * 6 * 6, 50)\n",
    "        self.fc2 = nn.Linear(50, 3)\n",
    "        # Creates dropout layers\n",
    "        self.drop = nn.Dropout(self.p)\n",
    "\n",
    "    def featurizer(self, x):\n",
    "        # Featurizer\n",
    "        # First convolutional block\n",
    "        # 3@28x28 -> n_feature@26x26 -> n_feature@13x13\n",
    "        x = self.conv1(x)\n",
    "        x = F.relu(x)\n",
    "        x = F.max_pool2d(x, kernel_size=2)\n",
    "        # Second convolutional block\n",
    "        # n_feature * @13x13 -> n_feature@11x11 -> n_feature@5x5\n",
    "        x = self.conv2(x)\n",
    "        x = F.relu(x)\n",
    "        x = F.max_pool2d(x, kernel_size=2)\n",
    "        # Input dimension (n_feature@5x5)\n",
    "        # Output dimension (n_feature * 5 * 5)\n",
    "        x = nn.Flatten()(x)\n",
    "        return x\n",
    "\n",
    "    def classifier(self, x):\n",
    "        # Classifier\n",
    "        # Hidden Layer\n",
    "        # Input dimension (n_feature * 5 * 5)\n",
    "        # Output dimension (50)\n",
    "        if self.p > 0:\n",
    "            x = self.drop(x)\n",
    "        x = self.fc1(x)\n",
    "        x = F.relu(x)\n",
    "        # Output Layer\n",
    "        # Input dimension (50)\n",
    "        # Output dimension (3)\n",
    "        if self.p > 0:\n",
    "            x = self.drop(x)\n",
    "        x = self.fc2(x)\n",
    "        return x\n",
    "\n",
    "    def forward(self, x):\n",
    "        x = self.featurizer(x)\n",
    "        x = self.classifier(x)\n",
    "        return x"
   ],
   "outputs": [],
   "execution_count": 700
  },
  {
   "cell_type": "markdown",
   "source": [
    "# Case Study"
   ],
   "metadata": {
    "id": "yU9Sv3_rW_Uz"
   }
  },
  {
   "cell_type": "markdown",
   "metadata": {
    "id": "JjwBhjA1x7Pl"
   },
   "source": [
    "## Model Configuration"
   ]
  },
  {
   "cell_type": "markdown",
   "source": [
    "The configuration part is short and straightforward:\n",
    "- We create a model,\n",
    "-  a loss function,\n",
    "- and an optimizer.\n",
    "\n",
    "The model will be an instance of our CNN2 class with five filters and a dropout\n",
    "probability of 30%.\n",
    "\n",
    "Our dataset has three classes, so we’re using\n",
    "``nn.CrossEntropyLoss()`` (which will take the three logits produced by our model)."
   ],
   "metadata": {
    "id": "H8AnsR9RGCaN"
   }
  },
  {
   "cell_type": "code",
   "metadata": {
    "id": "BkrMKNDex7Pl",
    "ExecuteTime": {
     "end_time": "2025-07-24T23:30:17.677717Z",
     "start_time": "2025-07-24T23:30:17.675113Z"
    }
   },
   "source": [
    "torch.manual_seed(13)\n",
    "\n",
    "# Model/Architecture\n",
    "model_cnn2 = CNN2(n_feature=5, p=0.3)\n",
    "\n",
    "# Loss function\n",
    "multi_loss_fn = nn.CrossEntropyLoss(reduction='mean')\n",
    "\n",
    "# Optimizer\n",
    "optimizer_cnn2 = optim.Adam(model_cnn2.parameters(), lr=3e-4)"
   ],
   "outputs": [],
   "execution_count": 701
  },
  {
   "cell_type": "markdown",
   "source": [
    "> Adaptive moment estimation (Adam) uses adaptive learning\n",
    "rates, computing a learning rate for each parameter. Yes, you\n",
    "read it right: Each parameter has a learning rate to call its own!\n",
    "\n",
    "\n",
    "> If you dig into the state_dict() of an Adam optimizer, you’ll find\n",
    "tensors shaped like the parameters of every layer in your model\n",
    "that Adam will use to compute the corresponding learning rates.\n",
    "True story!"
   ],
   "metadata": {
    "id": "h67IlmE6Gg1E"
   }
  },
  {
   "cell_type": "code",
   "source": [
    "optimizer_cnn2.state_dict()"
   ],
   "metadata": {
    "colab": {
     "base_uri": "https://localhost:8080/"
    },
    "id": "WCcNFhatLlF7",
    "outputId": "743c4e31-8eb6-4c26-f15d-d5ffb112b39d",
    "ExecuteTime": {
     "end_time": "2025-07-24T23:30:17.700440Z",
     "start_time": "2025-07-24T23:30:17.698392Z"
    }
   },
   "outputs": [
    {
     "data": {
      "text/plain": [
       "{'state': {},\n",
       " 'param_groups': [{'lr': 0.0003,\n",
       "   'betas': (0.9, 0.999),\n",
       "   'eps': 1e-08,\n",
       "   'weight_decay': 0,\n",
       "   'amsgrad': False,\n",
       "   'maximize': False,\n",
       "   'foreach': None,\n",
       "   'capturable': False,\n",
       "   'differentiable': False,\n",
       "   'fused': None,\n",
       "   'decoupled_weight_decay': False,\n",
       "   'params': [0, 1, 2, 3, 4, 5, 6, 7]}]}"
      ]
     },
     "execution_count": 702,
     "metadata": {},
     "output_type": "execute_result"
    }
   ],
   "execution_count": 702
  },
  {
   "cell_type": "markdown",
   "metadata": {
    "id": "J_2-_imRx7Pl"
   },
   "source": [
    "## Model Training"
   ]
  },
  {
   "cell_type": "code",
   "metadata": {
    "id": "v23rWHLTx7Pl",
    "ExecuteTime": {
     "end_time": "2025-07-24T23:30:22.029207Z",
     "start_time": "2025-07-24T23:30:17.729643Z"
    }
   },
   "source": [
    "arch_cnn2 = Architecture(model_cnn2,\n",
    "                         multi_loss_fn,\n",
    "                         optimizer_cnn2)\n",
    "arch_cnn2.set_loaders(train_loader, val_loader)\n",
    "arch_cnn2.train(10)"
   ],
   "outputs": [],
   "execution_count": 703
  },
  {
   "cell_type": "code",
   "source": [
    "arch_cnn2.count_parameters()"
   ],
   "metadata": {
    "colab": {
     "base_uri": "https://localhost:8080/"
    },
    "id": "uz3dTBTkKfpJ",
    "outputId": "34b76787-d154-4e42-9587-06ce7eea66a7",
    "ExecuteTime": {
     "end_time": "2025-07-24T23:30:22.046890Z",
     "start_time": "2025-07-24T23:30:22.044809Z"
    }
   },
   "outputs": [
    {
     "data": {
      "text/plain": [
       "9573"
      ]
     },
     "execution_count": 704,
     "metadata": {},
     "output_type": "execute_result"
    }
   ],
   "execution_count": 704
  },
  {
   "cell_type": "code",
   "metadata": {
    "id": "dDSyJu6Rx7Pm",
    "outputId": "18e93a52-9155-4ebe-8142-f9e7ebf1d5e7",
    "colab": {
     "base_uri": "https://localhost:8080/",
     "height": 395
    },
    "ExecuteTime": {
     "end_time": "2025-07-24T23:30:22.155416Z",
     "start_time": "2025-07-24T23:30:22.069916Z"
    }
   },
   "source": [
    "fig = arch_cnn2.plot_losses()"
   ],
   "outputs": [
    {
     "data": {
      "text/plain": [
       "<Figure size 1000x400 with 1 Axes>"
      ],
      "image/png": "[encoded data removed]"
     },
     "metadata": {},
     "output_type": "display_data"
    }
   ],
   "execution_count": 705
  },
  {
   "cell_type": "markdown",
   "metadata": {
    "id": "ot0FT1aAx7Pm"
   },
   "source": [
    "### Accuracy"
   ]
  },
  {
   "cell_type": "code",
   "metadata": {
    "id": "LRWhimcwx7Pm",
    "outputId": "7711df50-e798-4f1a-a188-75371c255e20",
    "colab": {
     "base_uri": "https://localhost:8080/"
    },
    "ExecuteTime": {
     "end_time": "2025-07-24T23:30:22.205964Z",
     "start_time": "2025-07-24T23:30:22.173241Z"
    }
   },
   "source": [
    "Architecture.loader_apply(val_loader,\n",
    "                          arch_cnn2.correct)"
   ],
   "outputs": [
    {
     "data": {
      "text/plain": [
       "tensor([[40, 52],\n",
       "        [40, 52],\n",
       "        [37, 52]])"
      ]
     },
     "execution_count": 706,
     "metadata": {},
     "output_type": "execute_result"
    }
   ],
   "execution_count": 706
  },
  {
   "cell_type": "code",
   "source": [
    "Architecture.loader_apply(val_loader,\n",
    "                          arch_cnn2.correct).sum(axis=0)"
   ],
   "metadata": {
    "colab": {
     "base_uri": "https://localhost:8080/"
    },
    "id": "RN1LrRNuknlw",
    "outputId": "c28768a8-5a00-4630-a59f-35959d29386b",
    "ExecuteTime": {
     "end_time": "2025-07-24T23:30:22.276938Z",
     "start_time": "2025-07-24T23:30:22.244301Z"
    }
   },
   "outputs": [
    {
     "data": {
      "text/plain": [
       "tensor([117, 156])"
      ]
     },
     "execution_count": 707,
     "metadata": {},
     "output_type": "execute_result"
    }
   ],
   "execution_count": 707
  },
  {
   "cell_type": "code",
   "source": [
    "(lambda x: x[0].item() / x[1].item())(Architecture.loader_apply(val_loader,\n",
    "                                                                arch_cnn2.correct).sum(axis=0))"
   ],
   "metadata": {
    "colab": {
     "base_uri": "https://localhost:8080/"
    },
    "id": "jkiRae49lBQf",
    "outputId": "6df7ce0f-42fa-4c88-e73e-21cb19145668",
    "ExecuteTime": {
     "end_time": "2025-07-24T23:30:22.348461Z",
     "start_time": "2025-07-24T23:30:22.315243Z"
    }
   },
   "outputs": [
    {
     "data": {
      "text/plain": [
       "0.75"
      ]
     },
     "execution_count": 708,
     "metadata": {},
     "output_type": "execute_result"
    }
   ],
   "execution_count": 708
  },
  {
   "cell_type": "markdown",
   "metadata": {
    "id": "B2ZUMxTjx7Pm"
   },
   "source": [
    "### Regularizing Effect"
   ]
  },
  {
   "cell_type": "code",
   "metadata": {
    "id": "IYzWhT5Ex7Pm",
    "ExecuteTime": {
     "end_time": "2025-07-24T23:30:26.367585Z",
     "start_time": "2025-07-24T23:30:22.373484Z"
    }
   },
   "source": [
    "torch.manual_seed(13)\n",
    "# Model Configuration\n",
    "model_cnn2_nodrop = CNN2(n_feature=5, p=0.0)\n",
    "multi_loss_fn = nn.CrossEntropyLoss(reduction='mean')\n",
    "optimizer_cnn2_nodrop = optim.Adam(model_cnn2_nodrop.parameters(), lr=3e-4)\n",
    "# Model Training\n",
    "arch_cnn2_nodrop = Architecture(model_cnn2_nodrop, multi_loss_fn, optimizer_cnn2_nodrop)\n",
    "arch_cnn2_nodrop.set_loaders(train_loader, val_loader)\n",
    "arch_cnn2_nodrop.train(10)"
   ],
   "outputs": [],
   "execution_count": 709
  },
  {
   "cell_type": "code",
   "source": [
    "def figure11(losses, val_losses, losses_nodrop, val_losses_nodrop):\n",
    "    fig, axs = plt.subplots(1, 1, figsize=(10, 5))\n",
    "    axs.plot(losses, 'b', label='Training Losses - Dropout')\n",
    "    axs.plot(val_losses, 'r', label='Validation Losses - Dropout')\n",
    "    axs.plot(losses_nodrop, 'b--', label='Training Losses - No Dropout')\n",
    "    axs.plot(val_losses_nodrop, 'r--', label='Validation Losses - No Dropout')\n",
    "    plt.yscale('log')\n",
    "    plt.xlabel('Epochs')\n",
    "    plt.ylabel('Loss')\n",
    "    plt.title('Regularizing Effect')\n",
    "    fig.legend(loc='lower left')\n",
    "    fig.tight_layout()\n",
    "    return fig"
   ],
   "metadata": {
    "id": "7VM30IJOjK6e",
    "ExecuteTime": {
     "end_time": "2025-07-24T23:30:26.385230Z",
     "start_time": "2025-07-24T23:30:26.382749Z"
    }
   },
   "outputs": [],
   "execution_count": 710
  },
  {
   "cell_type": "code",
   "metadata": {
    "id": "4bpE2wmLx7Pm",
    "outputId": "61aeb499-d654-4c07-b795-89283fdeb27d",
    "colab": {
     "base_uri": "https://localhost:8080/",
     "height": 506
    },
    "ExecuteTime": {
     "end_time": "2025-07-24T23:30:26.511903Z",
     "start_time": "2025-07-24T23:30:26.405826Z"
    }
   },
   "source": [
    "fig = figure11(arch_cnn2.losses, arch_cnn2.val_losses, arch_cnn2_nodrop.losses, arch_cnn2_nodrop.val_losses)"
   ],
   "outputs": [
    {
     "data": {
      "text/plain": [
       "<Figure size 1000x500 with 1 Axes>"
      ],
      "image/png": "[encoded data removed]"
     },
     "metadata": {},
     "output_type": "display_data"
    }
   ],
   "execution_count": 711
  },
  {
   "cell_type": "code",
   "metadata": {
    "id": "HQwHu31_x7Pm",
    "outputId": "f9708602-adaf-4d92-e52f-b0b39c9f11c2",
    "colab": {
     "base_uri": "https://localhost:8080/"
    },
    "ExecuteTime": {
     "end_time": "2025-07-24T23:30:26.798417Z",
     "start_time": "2025-07-24T23:30:26.527310Z"
    }
   },
   "source": [
    "print(\n",
    "    Architecture.loader_apply(train_loader, arch_cnn2_nodrop.correct).sum(axis=0),\n",
    "    Architecture.loader_apply(val_loader, arch_cnn2_nodrop.correct).sum(axis=0)\n",
    ")"
   ],
   "outputs": [
    {
     "name": "stdout",
     "output_type": "stream",
     "text": [
      "tensor([ 953, 1386]) tensor([108, 156])\n"
     ]
    }
   ],
   "execution_count": 712
  },
  {
   "cell_type": "code",
   "source": [
    "print(\n",
    "    (lambda x: x[0].item() / x[1].item())(\n",
    "        Architecture.loader_apply(train_loader, arch_cnn2_nodrop.correct).sum(axis=0)),\n",
    "    (lambda x: x[0].item() / x[1].item())(Architecture.loader_apply(val_loader, arch_cnn2_nodrop.correct).sum(axis=0))\n",
    ")"
   ],
   "metadata": {
    "colab": {
     "base_uri": "https://localhost:8080/"
    },
    "id": "ZZ_qXhn7mCen",
    "outputId": "6c66122c-aaf7-4742-ab9b-063b1dade0d5",
    "ExecuteTime": {
     "end_time": "2025-07-24T23:30:27.072452Z",
     "start_time": "2025-07-24T23:30:26.815500Z"
    }
   },
   "outputs": [
    {
     "name": "stdout",
     "output_type": "stream",
     "text": [
      "0.6875901875901876 0.6923076923076923\n"
     ]
    }
   ],
   "execution_count": 713
  },
  {
   "cell_type": "code",
   "metadata": {
    "id": "C4OmbK88x7Pm",
    "outputId": "f3dadd44-cdf2-41d6-bdf7-4c3a430686db",
    "colab": {
     "base_uri": "https://localhost:8080/"
    },
    "ExecuteTime": {
     "end_time": "2025-07-24T23:30:27.389287Z",
     "start_time": "2025-07-24T23:30:27.089042Z"
    }
   },
   "source": [
    "print(\n",
    "    Architecture.loader_apply(train_loader, arch_cnn2.correct).sum(axis=0),\n",
    "    Architecture.loader_apply(val_loader, arch_cnn2.correct).sum(axis=0)\n",
    ")"
   ],
   "outputs": [
    {
     "name": "stdout",
     "output_type": "stream",
     "text": [
      "tensor([ 923, 1386]) tensor([117, 156])\n"
     ]
    }
   ],
   "execution_count": 714
  },
  {
   "cell_type": "code",
   "source": [
    "print(\n",
    "    (lambda x: x[0].item() / x[1].item())(Architecture.loader_apply(train_loader, arch_cnn2.correct).sum(axis=0)),\n",
    "    (lambda x: x[0].item() / x[1].item())(Architecture.loader_apply(val_loader, arch_cnn2.correct).sum(axis=0))\n",
    ")"
   ],
   "metadata": {
    "colab": {
     "base_uri": "https://localhost:8080/"
    },
    "id": "kjCSH3bymW5w",
    "outputId": "0a9dcead-d591-4f6e-9a6e-d305f18c1373",
    "ExecuteTime": {
     "end_time": "2025-07-24T23:30:27.670378Z",
     "start_time": "2025-07-24T23:30:27.405956Z"
    }
   },
   "outputs": [
    {
     "name": "stdout",
     "output_type": "stream",
     "text": [
      "0.665945165945166 0.75\n"
     ]
    }
   ],
   "execution_count": 715
  },
  {
   "cell_type": "markdown",
   "metadata": {
    "id": "_9tCbHGDx7Pm"
   },
   "source": [
    "### Visualizing Filters"
   ]
  },
  {
   "cell_type": "code",
   "metadata": {
    "id": "vH6OlkjKx7Pm",
    "outputId": "7353db26-63e1-4c72-b55a-f6ed3d38a512",
    "colab": {
     "base_uri": "https://localhost:8080/"
    },
    "ExecuteTime": {
     "end_time": "2025-07-24T23:30:27.690056Z",
     "start_time": "2025-07-24T23:30:27.687042Z"
    }
   },
   "source": [
    "model_cnn2.conv1.weight.shape"
   ],
   "outputs": [
    {
     "data": {
      "text/plain": [
       "torch.Size([5, 3, 3, 3])"
      ]
     },
     "execution_count": 716,
     "metadata": {},
     "output_type": "execute_result"
    }
   ],
   "execution_count": 716
  },
  {
   "cell_type": "code",
   "metadata": {
    "id": "npjMerDKx7Pm",
    "outputId": "b90085a5-0b01-495c-84c6-0cc5ddca6107",
    "colab": {
     "base_uri": "https://localhost:8080/",
     "height": 994
    },
    "ExecuteTime": {
     "end_time": "2025-07-24T23:30:28.044036Z",
     "start_time": "2025-07-24T23:30:27.708430Z"
    }
   },
   "source": [
    "fig = arch_cnn2.visualize_filters('conv1')"
   ],
   "outputs": [
    {
     "data": {
      "text/plain": [
       "<Figure size 800x1000 with 15 Axes>"
      ],
      "image/png": "[encoded data removed]"
     },
     "metadata": {},
     "output_type": "display_data"
    }
   ],
   "execution_count": 717
  },
  {
   "cell_type": "code",
   "metadata": {
    "id": "t4wTDLadx7Pm",
    "outputId": "ea17559b-c43d-4875-bfa0-6905b9c28d5a",
    "colab": {
     "base_uri": "https://localhost:8080/"
    },
    "ExecuteTime": {
     "end_time": "2025-07-24T23:30:28.063829Z",
     "start_time": "2025-07-24T23:30:28.061579Z"
    }
   },
   "source": [
    "model_cnn2.conv2.weight.shape"
   ],
   "outputs": [
    {
     "data": {
      "text/plain": [
       "torch.Size([5, 5, 3, 3])"
      ]
     },
     "execution_count": 718,
     "metadata": {},
     "output_type": "execute_result"
    }
   ],
   "execution_count": 718
  },
  {
   "cell_type": "code",
   "metadata": {
    "id": "H6EPMkGix7Pn",
    "outputId": "1da15f23-64de-4f37-8b94-69aefe513f54",
    "colab": {
     "base_uri": "https://localhost:8080/",
     "height": 994
    },
    "ExecuteTime": {
     "end_time": "2025-07-24T23:30:28.452721Z",
     "start_time": "2025-07-24T23:30:28.086260Z"
    }
   },
   "source": [
    "fig = arch_cnn2.visualize_filters('conv2')"
   ],
   "outputs": [
    {
     "data": {
      "text/plain": [
       "<Figure size 1200x1000 with 25 Axes>"
      ],
      "image/png": "[encoded data removed]"
     },
     "metadata": {},
     "output_type": "display_data"
    }
   ],
   "execution_count": 719
  },
  {
   "metadata": {},
   "cell_type": "markdown",
   "source": [
    "# Learning Rates\n",
    "##  Finding LR"
   ]
  },
  {
   "metadata": {
    "ExecuteTime": {
     "end_time": "2025-07-24T23:30:28.472886Z",
     "start_time": "2025-07-24T23:30:28.470769Z"
    }
   },
   "cell_type": "code",
   "source": [
    "def make_lr_fn(start_lr, end_lr, num_iter, step_mode='exp'):\n",
    "    if step_mode == 'linear':\n",
    "        factor = (end_lr / start_lr - 1) / num_iter\n",
    "        def lr_fn(iteration):\n",
    "            return 1 + iteration * factor\n",
    "    else:\n",
    "        factor = (np.log(end_lr) - np.log(start_lr)) / num_iter\n",
    "        def lr_fn(iteration):\n",
    "            return np.exp(factor)**iteration\n",
    "    return lr_fn"
   ],
   "outputs": [],
   "execution_count": 720
  },
  {
   "metadata": {
    "ExecuteTime": {
     "end_time": "2025-07-24T23:30:28.492020Z",
     "start_time": "2025-07-24T23:30:28.490472Z"
    }
   },
   "cell_type": "code",
   "source": [
    "start_lr = 0.01\n",
    "end_lr = 0.1\n",
    "num_iter = 10\n",
    "lr_fn = make_lr_fn(start_lr, end_lr, num_iter, step_mode='exp')"
   ],
   "outputs": [],
   "execution_count": 721
  },
  {
   "metadata": {
    "ExecuteTime": {
     "end_time": "2025-07-24T23:30:28.523295Z",
     "start_time": "2025-07-24T23:30:28.520928Z"
    }
   },
   "cell_type": "code",
   "source": "lr_fn(np.arange(num_iter + 1))",
   "outputs": [
    {
     "data": {
      "text/plain": [
       "array([ 1.        ,  1.25892541,  1.58489319,  1.99526231,  2.51188643,\n",
       "        3.16227766,  3.98107171,  5.01187234,  6.30957344,  7.94328235,\n",
       "       10.        ])"
      ]
     },
     "execution_count": 722,
     "metadata": {},
     "output_type": "execute_result"
    }
   ],
   "execution_count": 722
  },
  {
   "metadata": {
    "ExecuteTime": {
     "end_time": "2025-07-24T23:30:28.563242Z",
     "start_time": "2025-07-24T23:30:28.560377Z"
    }
   },
   "cell_type": "code",
   "source": "start_lr * lr_fn(np.arange(num_iter + 1))",
   "outputs": [
    {
     "data": {
      "text/plain": [
       "array([0.01      , 0.01258925, 0.01584893, 0.01995262, 0.02511886,\n",
       "       0.03162278, 0.03981072, 0.05011872, 0.06309573, 0.07943282,\n",
       "       0.1       ])"
      ]
     },
     "execution_count": 723,
     "metadata": {},
     "output_type": "execute_result"
    }
   ],
   "execution_count": 723
  },
  {
   "metadata": {
    "ExecuteTime": {
     "end_time": "2025-07-24T23:30:28.600197Z",
     "start_time": "2025-07-24T23:30:28.597897Z"
    }
   },
   "cell_type": "code",
   "source": [
    "dummy_model = CNN2(n_feature=5, p=0.3)\n",
    "dummy_optimizer = optim.Adam(dummy_model.parameters(), lr=start_lr)\n",
    "dummy_scheduler = LambdaLR(dummy_optimizer, lr_lambda=lr_fn)"
   ],
   "outputs": [],
   "execution_count": 724
  },
  {
   "metadata": {
    "ExecuteTime": {
     "end_time": "2025-07-24T23:30:28.638350Z",
     "start_time": "2025-07-24T23:30:28.636899Z"
    }
   },
   "cell_type": "code",
   "source": [
    "dummy_optimizer.step()\n",
    "dummy_scheduler.step()"
   ],
   "outputs": [],
   "execution_count": 725
  },
  {
   "metadata": {
    "ExecuteTime": {
     "end_time": "2025-07-24T23:30:28.674219Z",
     "start_time": "2025-07-24T23:30:28.671982Z"
    }
   },
   "cell_type": "code",
   "source": "dummy_scheduler.get_last_lr()[0]",
   "outputs": [
    {
     "data": {
      "text/plain": [
       "np.float64(0.012589254117941673)"
      ]
     },
     "execution_count": 726,
     "metadata": {},
     "output_type": "execute_result"
    }
   ],
   "execution_count": 726
  },
  {
   "metadata": {
    "ExecuteTime": {
     "end_time": "2025-07-24T23:30:28.736753Z",
     "start_time": "2025-07-24T23:30:28.731511Z"
    }
   },
   "cell_type": "code",
   "source": [
    "def lr_range_test(self, data_loader, end_lr, num_iter=100, step_mode='exp', alpha=0.05, ax=None):\n",
    "    # Since the test updates both model and optimizer we need to store\n",
    "    # their initial states to restore them in the end\n",
    "    previous_states = {'model': deepcopy(self.model.state_dict()),\n",
    "                       'optimizer': deepcopy(self.optimizer.state_dict())}\n",
    "    # Retrieves the learning rate set in the optimizer\n",
    "    start_lr = self.optimizer.state_dict()['param_groups'][0]['lr']\n",
    "\n",
    "    # Builds a custom function and corresponding scheduler\n",
    "    lr_fn = make_lr_fn(start_lr, end_lr, num_iter)\n",
    "    scheduler = LambdaLR(self.optimizer, lr_lambda=lr_fn)\n",
    "\n",
    "    # Variables for tracking results and iterations\n",
    "    tracking = {'loss': [], 'lr': []}\n",
    "    iteration = 0\n",
    "\n",
    "    # If there are more iterations than mini-batches in the data loader,\n",
    "    # it will have to loop over it more than once\n",
    "    while (iteration < num_iter):\n",
    "        # That's the typical mini-batch inner loop\n",
    "        for x_batch, y_batch in data_loader:\n",
    "            x_batch = x_batch.to(self.device)\n",
    "            y_batch = y_batch.to(self.device)\n",
    "            # Step 1\n",
    "            yhat = self.model(x_batch)\n",
    "            # Step 2\n",
    "            loss = self.loss_fn(yhat, y_batch)\n",
    "            # Step 3\n",
    "            loss.backward()\n",
    "\n",
    "            # Here we keep track of the losses (smoothed)\n",
    "            # and the learning rates\n",
    "            tracking['lr'].append(scheduler.get_last_lr()[0])\n",
    "            if iteration == 0:\n",
    "                tracking['loss'].append(loss.item())\n",
    "            else:\n",
    "                prev_loss = tracking['loss'][-1]\n",
    "                smoothed_loss = alpha * loss.item() + (1-alpha) * prev_loss\n",
    "                tracking['loss'].append(smoothed_loss)\n",
    "\n",
    "            iteration += 1\n",
    "            # Number of iterations reached\n",
    "            if iteration == num_iter:\n",
    "                break\n",
    "\n",
    "            # Step 4\n",
    "            self.optimizer.step()\n",
    "            scheduler.step()\n",
    "            self.optimizer.zero_grad()\n",
    "\n",
    "    # Restores the original states\n",
    "    self.optimizer.load_state_dict(previous_states['optimizer'])\n",
    "    self.model.load_state_dict(previous_states['model'])\n",
    "\n",
    "    if ax is None:\n",
    "        fig, ax = plt.subplots(1, 1, figsize=(6, 4))\n",
    "    else:\n",
    "        fig = ax.get_figure()\n",
    "    ax.plot(tracking['lr'], tracking['loss'])\n",
    "    if step_mode == 'exp':\n",
    "        ax.set_xscale('log')\n",
    "    ax.set_xlabel('Learning Rate')\n",
    "    ax.set_ylabel('Loss')\n",
    "    fig.tight_layout()\n",
    "    return tracking, fig\n",
    "\n",
    "setattr(Architecture, 'lr_range_test', lr_range_test)"
   ],
   "outputs": [],
   "execution_count": 727
  },
  {
   "metadata": {
    "ExecuteTime": {
     "end_time": "2025-07-24T23:30:28.778469Z",
     "start_time": "2025-07-24T23:30:28.775823Z"
    }
   },
   "cell_type": "code",
   "source": [
    "torch.manual_seed(13)\n",
    "new_model = CNN2(n_feature=5, p=0.3)\n",
    "multi_loss_fn = nn.CrossEntropyLoss(reduction='mean')\n",
    "new_optimizer = optim.Adam(new_model.parameters(), lr=3e-4)"
   ],
   "outputs": [],
   "execution_count": 728
  },
  {
   "metadata": {
    "ExecuteTime": {
     "end_time": "2025-07-24T23:30:29.425202Z",
     "start_time": "2025-07-24T23:30:28.809509Z"
    }
   },
   "cell_type": "code",
   "source": [
    "sbs_new = Architecture(new_model, multi_loss_fn, new_optimizer)\n",
    "tracking, fig = sbs_new.lr_range_test(train_loader, end_lr=1e-1, num_iter=100)"
   ],
   "outputs": [
    {
     "data": {
      "text/plain": [
       "<Figure size 600x400 with 1 Axes>"
      ],
      "image/png": "[encoded data removed]"
     },
     "metadata": {},
     "output_type": "display_data"
    }
   ],
   "execution_count": 729
  },
  {
   "metadata": {
    "ExecuteTime": {
     "end_time": "2025-07-24T23:30:29.444791Z",
     "start_time": "2025-07-24T23:30:29.443202Z"
    }
   },
   "cell_type": "code",
   "source": [
    "def set_optimizer(self, optimizer):\n",
    "    self.optimizer = optimizer\n",
    "\n",
    "setattr(Architecture, 'set_optimizer', set_optimizer)"
   ],
   "outputs": [],
   "execution_count": 730
  },
  {
   "metadata": {
    "ExecuteTime": {
     "end_time": "2025-07-24T23:30:33.655585Z",
     "start_time": "2025-07-24T23:30:29.463712Z"
    }
   },
   "cell_type": "code",
   "source": [
    "new_optimizer = optim.Adam(new_model.parameters(), lr=0.005)\n",
    "sbs_new.set_optimizer(new_optimizer)\n",
    "sbs_new.set_loaders(train_loader, val_loader)\n",
    "sbs_new.train(10)"
   ],
   "outputs": [],
   "execution_count": 731
  },
  {
   "metadata": {
    "ExecuteTime": {
     "end_time": "2025-07-24T23:30:33.755098Z",
     "start_time": "2025-07-24T23:30:33.669896Z"
    }
   },
   "cell_type": "code",
   "source": [
    "# This plot wasn't included in the book\n",
    "fig = sbs_new.plot_losses()"
   ],
   "outputs": [
    {
     "data": {
      "text/plain": [
       "<Figure size 1000x400 with 1 Axes>"
      ],
      "image/png": "[encoded data removed]"
     },
     "metadata": {},
     "output_type": "display_data"
    }
   ],
   "execution_count": 732
  },
  {
   "metadata": {},
   "cell_type": "markdown",
   "source": "## LR Finder"
  },
  {
   "metadata": {
    "ExecuteTime": {
     "end_time": "2025-07-24T23:30:33.773696Z",
     "start_time": "2025-07-24T23:30:33.772283Z"
    }
   },
   "cell_type": "code",
   "source": "from torch_lr_finder import LRFinder",
   "outputs": [],
   "execution_count": 733
  },
  {
   "metadata": {
    "ExecuteTime": {
     "end_time": "2025-07-24T23:30:34.299577Z",
     "start_time": "2025-07-24T23:30:33.788013Z"
    }
   },
   "cell_type": "code",
   "source": [
    "fig, ax = plt.subplots(1, 1, figsize=(6, 4))\n",
    "\n",
    "torch.manual_seed(11)\n",
    "new_model = CNN2(n_feature=5, p=0.3)\n",
    "multi_loss_fn = nn.CrossEntropyLoss(reduction='mean')\n",
    "new_optimizer = optim.Adam(new_model.parameters(), lr=3e-4)\n",
    "device = 'cuda' if torch.cuda.is_available() else 'cpu'\n",
    "\n",
    "lr_finder = LRFinder(new_model, new_optimizer, multi_loss_fn, device=device)\n",
    "lr_finder.range_test(train_loader, end_lr=1e-1, num_iter=100)\n",
    "lr_finder.plot(ax=ax, log_lr=True)\n",
    "\n",
    "fig.tight_layout()\n",
    "lr_finder.reset()"
   ],
   "outputs": [
    {
     "name": "stderr",
     "output_type": "stream",
     "text": [
      "100%|██████████| 100/100 [00:00<00:00, 236.45it/s]"
     ]
    },
    {
     "name": "stdout",
     "output_type": "stream",
     "text": [
      "Learning rate search finished. See the graph with {finder_name}.plot()\n",
      "LR suggestion: steepest gradient\n",
      "Suggested LR: 5.64E-03\n"
     ]
    },
    {
     "name": "stderr",
     "output_type": "stream",
     "text": [
      "\n"
     ]
    },
    {
     "data": {
      "text/plain": [
       "<Figure size 600x400 with 1 Axes>"
      ],
      "image/png": "[encoded data removed]"
     },
     "metadata": {},
     "output_type": "display_data"
    }
   ],
   "execution_count": 734
  },
  {
   "metadata": {
    "ExecuteTime": {
     "end_time": "2025-07-24T23:30:34.317224Z",
     "start_time": "2025-07-24T23:30:34.314571Z"
    }
   },
   "cell_type": "code",
   "source": [
    "def figure15(alpha=1/3, periods=5, steps=10):\n",
    "    t = np.arange(1, steps+1)\n",
    "    fig, ax = plt.subplots(1, 1, figsize=(6, 4))\n",
    "    ax.bar(t-1, alpha*(1-alpha)**(t-1), label='EWMA')\n",
    "    ax.bar(t-1, [1/periods]*periods + [0]*(10-periods), color='r', alpha=.3, label='MA')\n",
    "    ax.set_xticks(t-1)\n",
    "    ax.grid(False)\n",
    "    ax.set_xlabel('Lag')\n",
    "    ax.set_ylabel('Weight')\n",
    "    ax.set_title(r'$EWMA\\ \\alpha=\\frac{1}{3}$ vs MA (5 periods)')\n",
    "    ax.legend()\n",
    "    fig.tight_layout()\n",
    "    return fig"
   ],
   "outputs": [],
   "execution_count": 735
  },
  {
   "metadata": {
    "ExecuteTime": {
     "end_time": "2025-07-24T23:30:34.404868Z",
     "start_time": "2025-07-24T23:30:34.332701Z"
    }
   },
   "cell_type": "code",
   "source": "fig = figure15()",
   "outputs": [
    {
     "data": {
      "text/plain": [
       "<Figure size 600x400 with 1 Axes>"
      ],
      "image/png": "[encoded data removed]"
     },
     "metadata": {},
     "output_type": "display_data"
    }
   ],
   "execution_count": 736
  },
  {
   "metadata": {
    "ExecuteTime": {
     "end_time": "2025-07-24T23:30:34.413100Z",
     "start_time": "2025-07-24T23:30:34.410836Z"
    }
   },
   "cell_type": "code",
   "source": [
    "alpha = 1/3; T = 93\n",
    "t = np.arange(1, T + 1)\n",
    "age = alpha * sum((1 - alpha)**(t - 1) * t)\n",
    "age"
   ],
   "outputs": [
    {
     "data": {
      "text/plain": [
       "np.float64(3.0)"
      ]
     },
     "execution_count": 737,
     "metadata": {},
     "output_type": "execute_result"
    }
   ],
   "execution_count": 737
  },
  {
   "metadata": {
    "ExecuteTime": {
     "end_time": "2025-07-24T23:30:34.442051Z",
     "start_time": "2025-07-24T23:30:34.440542Z"
    }
   },
   "cell_type": "code",
   "source": [
    "def EWMA(past_value, current_value, alpha):\n",
    "    return (1 - alpha) * past_value + alpha * current_value"
   ],
   "outputs": [],
   "execution_count": 738
  },
  {
   "metadata": {
    "ExecuteTime": {
     "end_time": "2025-07-24T23:30:34.468004Z",
     "start_time": "2025-07-24T23:30:34.466012Z"
    }
   },
   "cell_type": "code",
   "source": [
    "def calc_ewma(values, period):\n",
    "    alpha = 2 / (period + 1)\n",
    "    result = []\n",
    "    for v in values:\n",
    "        try:\n",
    "            prev_value = result[-1]\n",
    "        except IndexError:\n",
    "            prev_value = 0\n",
    "\n",
    "        new_value = EWMA(prev_value, v, alpha)\n",
    "        result.append(new_value)\n",
    "    return np.array(result)"
   ],
   "outputs": [],
   "execution_count": 739
  },
  {
   "metadata": {
    "ExecuteTime": {
     "end_time": "2025-07-24T23:30:34.488131Z",
     "start_time": "2025-07-24T23:30:34.486582Z"
    }
   },
   "cell_type": "code",
   "source": [
    "def correction(averaged_value, beta, steps):\n",
    "    return averaged_value / (1 - (beta ** steps))"
   ],
   "outputs": [],
   "execution_count": 740
  },
  {
   "metadata": {
    "ExecuteTime": {
     "end_time": "2025-07-24T23:30:34.510554Z",
     "start_time": "2025-07-24T23:30:34.508547Z"
    }
   },
   "cell_type": "code",
   "source": [
    "def calc_corrected_ewma(values, period):\n",
    "    ewma = calc_ewma(values, period)\n",
    "\n",
    "    alpha = 2 / (period + 1)\n",
    "    beta = 1 - alpha\n",
    "\n",
    "    result = []\n",
    "    for step, v in enumerate(ewma):\n",
    "        adj_value = correction(v, beta, step + 1)\n",
    "        result.append(adj_value)\n",
    "\n",
    "    return np.array(result)"
   ],
   "outputs": [],
   "execution_count": 741
  },
  {
   "metadata": {
    "ExecuteTime": {
     "end_time": "2025-07-24T23:30:34.532153Z",
     "start_time": "2025-07-24T23:30:34.529417Z"
    }
   },
   "cell_type": "code",
   "source": [
    "\n",
    "def ma_vs_ewma(values, periods=19):\n",
    "    ma19 = pd.Series(values).rolling(min_periods=0, window=periods).mean()\n",
    "    fig, ax = plt.subplots(1, 1, figsize=(6, 4))\n",
    "    ax.plot(values, c='k', label='Temperatures')\n",
    "    ax.plot(ma19, c='k', linestyle='--', label='MA')\n",
    "    ax.plot(calc_ewma(values, periods), c='r', linestyle='--', label='EWMA')\n",
    "    ax.plot(calc_corrected_ewma(values, periods), c='r', linestyle='-', label='Bias-corrected EWMA')\n",
    "    ax.set_title('MA vs EWMA')\n",
    "    ax.set_ylabel('Temperature')\n",
    "    ax.set_xlabel('Days')\n",
    "    ax.legend(fontsize=12)\n",
    "    fig.tight_layout()\n",
    "    return fig"
   ],
   "outputs": [],
   "execution_count": 742
  },
  {
   "metadata": {
    "ExecuteTime": {
     "end_time": "2025-07-24T23:30:34.623657Z",
     "start_time": "2025-07-24T23:30:34.553682Z"
    }
   },
   "cell_type": "code",
   "source": [
    "temperatures = np.array([5, 11, 15, 6, 5, 3, 3, 0, 0, 3, 4, 2, 1,\n",
    "    -1, -2, 2, 2, -2, -1, -1, 3, 4, -1, 2, 6, 4, 9, 11, 9, -2])\n",
    "\n",
    "fig = ma_vs_ewma(temperatures, periods=19)"
   ],
   "outputs": [
    {
     "data": {
      "text/plain": [
       "<Figure size 600x400 with 1 Axes>"
      ],
      "image/png": "[encoded data removed]"
     },
     "metadata": {},
     "output_type": "display_data"
    }
   ],
   "execution_count": 743
  },
  {
   "metadata": {
    "ExecuteTime": {
     "end_time": "2025-07-24T23:30:34.641066Z",
     "start_time": "2025-07-24T23:30:34.639422Z"
    }
   },
   "cell_type": "code",
   "source": "optimizer = optim.Adam(model_cnn2.parameters(), lr=0.0125, betas=(0.9, 0.999), eps=1e-8)",
   "outputs": [],
   "execution_count": 744
  },
  {
   "metadata": {
    "ExecuteTime": {
     "end_time": "2025-07-24T23:30:34.658Z",
     "start_time": "2025-07-24T23:30:34.655476Z"
    }
   },
   "cell_type": "code",
   "source": [
    "\n",
    "\n",
    "torch.manual_seed(42)\n",
    "model = nn.Sequential()\n",
    "model.add_module('linear', nn.Linear(1, 1))\n",
    "optimizer = optim.Adam(model.parameters(), lr=0.1)\n",
    "loss_fn = nn.MSELoss(reduction='mean')\n",
    "\n"
   ],
   "outputs": [],
   "execution_count": 745
  },
  {
   "metadata": {
    "ExecuteTime": {
     "end_time": "2025-07-24T23:30:34.679751Z",
     "start_time": "2025-07-24T23:30:34.676793Z"
    }
   },
   "cell_type": "code",
   "source": [
    "\n",
    "\n",
    "setattr(Architecture, '_gradients', {})\n",
    "\n",
    "def capture_gradients(self, layers_to_hook):\n",
    "    if not isinstance(layers_to_hook, list):\n",
    "        layers_to_hook = [layers_to_hook]\n",
    "\n",
    "    modules = list(self.model.named_modules())\n",
    "    self._gradients = {}\n",
    "\n",
    "    def make_log_fn(name, parm_id):\n",
    "        def log_fn(grad):\n",
    "            self._gradients[name][parm_id].append(grad.tolist())\n",
    "            return\n",
    "        return log_fn\n",
    "\n",
    "    for name, layer in self.model.named_modules():\n",
    "        if name in layers_to_hook:\n",
    "            self._gradients.update({name: {}})\n",
    "            for parm_id, p in layer.named_parameters():\n",
    "                if p.requires_grad:\n",
    "                    self._gradients[name].update({parm_id: []})\n",
    "                    log_fn = make_log_fn(name, parm_id)\n",
    "                    self.handles[f'{name}.{parm_id}.grad'] = p.register_hook(log_fn)\n",
    "    return\n",
    "\n",
    "setattr(Architecture, 'capture_gradients', capture_gradients)\n",
    "\n"
   ],
   "outputs": [],
   "execution_count": 746
  },
  {
   "metadata": {
    "ExecuteTime": {
     "end_time": "2025-07-24T23:30:34.758851Z",
     "start_time": "2025-07-24T23:30:34.695966Z"
    }
   },
   "cell_type": "code",
   "source": [
    "architecture_adam = Architecture(model, loss_fn, optimizer)\n",
    "architecture_adam.set_loaders(train_loader, val_loader)\n",
    "architecture_adam.capture_gradients('linear')\n",
    "architecture_adam.train(10)\n",
    "architecture_adam.remove_hooks()"
   ],
   "outputs": [
    {
     "ename": "RuntimeError",
     "evalue": "mat1 and mat2 shapes cannot be multiplied (1536x32 and 1x1)",
     "output_type": "error",
     "traceback": [
      "\u001B[0;31m---------------------------------------------------------------------------\u001B[0m",
      "\u001B[0;31mRuntimeError\u001B[0m                              Traceback (most recent call last)",
      "Cell \u001B[0;32mIn[747], line 4\u001B[0m\n\u001B[1;32m      2\u001B[0m architecture_adam\u001B[38;5;241m.\u001B[39mset_loaders(train_loader, val_loader)\n\u001B[1;32m      3\u001B[0m architecture_adam\u001B[38;5;241m.\u001B[39mcapture_gradients(\u001B[38;5;124m'\u001B[39m\u001B[38;5;124mlinear\u001B[39m\u001B[38;5;124m'\u001B[39m)\n\u001B[0;32m----> 4\u001B[0m \u001B[43marchitecture_adam\u001B[49m\u001B[38;5;241;43m.\u001B[39;49m\u001B[43mtrain\u001B[49m\u001B[43m(\u001B[49m\u001B[38;5;241;43m10\u001B[39;49m\u001B[43m)\u001B[49m\n\u001B[1;32m      5\u001B[0m architecture_adam\u001B[38;5;241m.\u001B[39mremove_hooks()\n",
      "Cell \u001B[0;32mIn[668], line 156\u001B[0m, in \u001B[0;36mArchitecture.train\u001B[0;34m(self, n_epochs, seed)\u001B[0m\n\u001B[1;32m    152\u001B[0m \u001B[38;5;28mself\u001B[39m\u001B[38;5;241m.\u001B[39mtotal_epochs \u001B[38;5;241m+\u001B[39m\u001B[38;5;241m=\u001B[39m \u001B[38;5;241m1\u001B[39m\n\u001B[1;32m    154\u001B[0m \u001B[38;5;66;03m# inner loop\u001B[39;00m\n\u001B[1;32m    155\u001B[0m \u001B[38;5;66;03m# Performs training using mini-batches\u001B[39;00m\n\u001B[0;32m--> 156\u001B[0m loss \u001B[38;5;241m=\u001B[39m \u001B[38;5;28;43mself\u001B[39;49m\u001B[38;5;241;43m.\u001B[39;49m\u001B[43m_mini_batch\u001B[49m\u001B[43m(\u001B[49m\u001B[43mvalidation\u001B[49m\u001B[38;5;241;43m=\u001B[39;49m\u001B[38;5;28;43;01mFalse\u001B[39;49;00m\u001B[43m)\u001B[49m\n\u001B[1;32m    157\u001B[0m \u001B[38;5;28mself\u001B[39m\u001B[38;5;241m.\u001B[39mlosses\u001B[38;5;241m.\u001B[39mappend(loss)\n\u001B[1;32m    159\u001B[0m \u001B[38;5;66;03m# VALIDATION\u001B[39;00m\n\u001B[1;32m    160\u001B[0m \u001B[38;5;66;03m# no gradients in validation!\u001B[39;00m\n",
      "Cell \u001B[0;32mIn[668], line 116\u001B[0m, in \u001B[0;36mArchitecture._mini_batch\u001B[0;34m(self, validation)\u001B[0m\n\u001B[1;32m    113\u001B[0m     x_batch \u001B[38;5;241m=\u001B[39m x_batch\u001B[38;5;241m.\u001B[39mto(\u001B[38;5;28mself\u001B[39m\u001B[38;5;241m.\u001B[39mdevice)\n\u001B[1;32m    114\u001B[0m     y_batch \u001B[38;5;241m=\u001B[39m y_batch\u001B[38;5;241m.\u001B[39mto(\u001B[38;5;28mself\u001B[39m\u001B[38;5;241m.\u001B[39mdevice)\n\u001B[0;32m--> 116\u001B[0m     mini_batch_loss \u001B[38;5;241m=\u001B[39m \u001B[43mstep_fn\u001B[49m\u001B[43m(\u001B[49m\u001B[43mx_batch\u001B[49m\u001B[43m,\u001B[49m\u001B[43m \u001B[49m\u001B[43my_batch\u001B[49m\u001B[43m)\u001B[49m\n\u001B[1;32m    117\u001B[0m     mini_batch_losses\u001B[38;5;241m.\u001B[39mappend(mini_batch_loss)\n\u001B[1;32m    119\u001B[0m loss \u001B[38;5;241m=\u001B[39m np\u001B[38;5;241m.\u001B[39mmean(mini_batch_losses)\n",
      "Cell \u001B[0;32mIn[668], line 65\u001B[0m, in \u001B[0;36mArchitecture._make_train_step_fn.<locals>.perform_train_step_fn\u001B[0;34m(x, y)\u001B[0m\n\u001B[1;32m     62\u001B[0m \u001B[38;5;28mself\u001B[39m\u001B[38;5;241m.\u001B[39mmodel\u001B[38;5;241m.\u001B[39mtrain()\n\u001B[1;32m     64\u001B[0m \u001B[38;5;66;03m# Step 1 - Computes our model's predicted output - forward pass\u001B[39;00m\n\u001B[0;32m---> 65\u001B[0m yhat \u001B[38;5;241m=\u001B[39m \u001B[38;5;28;43mself\u001B[39;49m\u001B[38;5;241;43m.\u001B[39;49m\u001B[43mmodel\u001B[49m\u001B[43m(\u001B[49m\u001B[43mx\u001B[49m\u001B[43m)\u001B[49m\n\u001B[1;32m     66\u001B[0m \u001B[38;5;66;03m# Step 2 - Computes the loss\u001B[39;00m\n\u001B[1;32m     67\u001B[0m loss \u001B[38;5;241m=\u001B[39m \u001B[38;5;28mself\u001B[39m\u001B[38;5;241m.\u001B[39mloss_fn(yhat, y)\n",
      "File \u001B[0;32m~/DataspellProjects/image-classifier/venv/lib/python3.9/site-packages/torch/nn/modules/module.py:1751\u001B[0m, in \u001B[0;36mModule._wrapped_call_impl\u001B[0;34m(self, *args, **kwargs)\u001B[0m\n\u001B[1;32m   1749\u001B[0m     \u001B[38;5;28;01mreturn\u001B[39;00m \u001B[38;5;28mself\u001B[39m\u001B[38;5;241m.\u001B[39m_compiled_call_impl(\u001B[38;5;241m*\u001B[39margs, \u001B[38;5;241m*\u001B[39m\u001B[38;5;241m*\u001B[39mkwargs)  \u001B[38;5;66;03m# type: ignore[misc]\u001B[39;00m\n\u001B[1;32m   1750\u001B[0m \u001B[38;5;28;01melse\u001B[39;00m:\n\u001B[0;32m-> 1751\u001B[0m     \u001B[38;5;28;01mreturn\u001B[39;00m \u001B[38;5;28;43mself\u001B[39;49m\u001B[38;5;241;43m.\u001B[39;49m\u001B[43m_call_impl\u001B[49m\u001B[43m(\u001B[49m\u001B[38;5;241;43m*\u001B[39;49m\u001B[43margs\u001B[49m\u001B[43m,\u001B[49m\u001B[43m \u001B[49m\u001B[38;5;241;43m*\u001B[39;49m\u001B[38;5;241;43m*\u001B[39;49m\u001B[43mkwargs\u001B[49m\u001B[43m)\u001B[49m\n",
      "File \u001B[0;32m~/DataspellProjects/image-classifier/venv/lib/python3.9/site-packages/torch/nn/modules/module.py:1762\u001B[0m, in \u001B[0;36mModule._call_impl\u001B[0;34m(self, *args, **kwargs)\u001B[0m\n\u001B[1;32m   1757\u001B[0m \u001B[38;5;66;03m# If we don't have any hooks, we want to skip the rest of the logic in\u001B[39;00m\n\u001B[1;32m   1758\u001B[0m \u001B[38;5;66;03m# this function, and just call forward.\u001B[39;00m\n\u001B[1;32m   1759\u001B[0m \u001B[38;5;28;01mif\u001B[39;00m \u001B[38;5;129;01mnot\u001B[39;00m (\u001B[38;5;28mself\u001B[39m\u001B[38;5;241m.\u001B[39m_backward_hooks \u001B[38;5;129;01mor\u001B[39;00m \u001B[38;5;28mself\u001B[39m\u001B[38;5;241m.\u001B[39m_backward_pre_hooks \u001B[38;5;129;01mor\u001B[39;00m \u001B[38;5;28mself\u001B[39m\u001B[38;5;241m.\u001B[39m_forward_hooks \u001B[38;5;129;01mor\u001B[39;00m \u001B[38;5;28mself\u001B[39m\u001B[38;5;241m.\u001B[39m_forward_pre_hooks\n\u001B[1;32m   1760\u001B[0m         \u001B[38;5;129;01mor\u001B[39;00m _global_backward_pre_hooks \u001B[38;5;129;01mor\u001B[39;00m _global_backward_hooks\n\u001B[1;32m   1761\u001B[0m         \u001B[38;5;129;01mor\u001B[39;00m _global_forward_hooks \u001B[38;5;129;01mor\u001B[39;00m _global_forward_pre_hooks):\n\u001B[0;32m-> 1762\u001B[0m     \u001B[38;5;28;01mreturn\u001B[39;00m \u001B[43mforward_call\u001B[49m\u001B[43m(\u001B[49m\u001B[38;5;241;43m*\u001B[39;49m\u001B[43margs\u001B[49m\u001B[43m,\u001B[49m\u001B[43m \u001B[49m\u001B[38;5;241;43m*\u001B[39;49m\u001B[38;5;241;43m*\u001B[39;49m\u001B[43mkwargs\u001B[49m\u001B[43m)\u001B[49m\n\u001B[1;32m   1764\u001B[0m result \u001B[38;5;241m=\u001B[39m \u001B[38;5;28;01mNone\u001B[39;00m\n\u001B[1;32m   1765\u001B[0m called_always_called_hooks \u001B[38;5;241m=\u001B[39m \u001B[38;5;28mset\u001B[39m()\n",
      "File \u001B[0;32m~/DataspellProjects/image-classifier/venv/lib/python3.9/site-packages/torch/nn/modules/container.py:240\u001B[0m, in \u001B[0;36mSequential.forward\u001B[0;34m(self, input)\u001B[0m\n\u001B[1;32m    238\u001B[0m \u001B[38;5;28;01mdef\u001B[39;00m\u001B[38;5;250m \u001B[39m\u001B[38;5;21mforward\u001B[39m(\u001B[38;5;28mself\u001B[39m, \u001B[38;5;28minput\u001B[39m):\n\u001B[1;32m    239\u001B[0m     \u001B[38;5;28;01mfor\u001B[39;00m module \u001B[38;5;129;01min\u001B[39;00m \u001B[38;5;28mself\u001B[39m:\n\u001B[0;32m--> 240\u001B[0m         \u001B[38;5;28minput\u001B[39m \u001B[38;5;241m=\u001B[39m \u001B[43mmodule\u001B[49m\u001B[43m(\u001B[49m\u001B[38;5;28;43minput\u001B[39;49m\u001B[43m)\u001B[49m\n\u001B[1;32m    241\u001B[0m     \u001B[38;5;28;01mreturn\u001B[39;00m \u001B[38;5;28minput\u001B[39m\n",
      "File \u001B[0;32m~/DataspellProjects/image-classifier/venv/lib/python3.9/site-packages/torch/nn/modules/module.py:1751\u001B[0m, in \u001B[0;36mModule._wrapped_call_impl\u001B[0;34m(self, *args, **kwargs)\u001B[0m\n\u001B[1;32m   1749\u001B[0m     \u001B[38;5;28;01mreturn\u001B[39;00m \u001B[38;5;28mself\u001B[39m\u001B[38;5;241m.\u001B[39m_compiled_call_impl(\u001B[38;5;241m*\u001B[39margs, \u001B[38;5;241m*\u001B[39m\u001B[38;5;241m*\u001B[39mkwargs)  \u001B[38;5;66;03m# type: ignore[misc]\u001B[39;00m\n\u001B[1;32m   1750\u001B[0m \u001B[38;5;28;01melse\u001B[39;00m:\n\u001B[0;32m-> 1751\u001B[0m     \u001B[38;5;28;01mreturn\u001B[39;00m \u001B[38;5;28;43mself\u001B[39;49m\u001B[38;5;241;43m.\u001B[39;49m\u001B[43m_call_impl\u001B[49m\u001B[43m(\u001B[49m\u001B[38;5;241;43m*\u001B[39;49m\u001B[43margs\u001B[49m\u001B[43m,\u001B[49m\u001B[43m \u001B[49m\u001B[38;5;241;43m*\u001B[39;49m\u001B[38;5;241;43m*\u001B[39;49m\u001B[43mkwargs\u001B[49m\u001B[43m)\u001B[49m\n",
      "File \u001B[0;32m~/DataspellProjects/image-classifier/venv/lib/python3.9/site-packages/torch/nn/modules/module.py:1762\u001B[0m, in \u001B[0;36mModule._call_impl\u001B[0;34m(self, *args, **kwargs)\u001B[0m\n\u001B[1;32m   1757\u001B[0m \u001B[38;5;66;03m# If we don't have any hooks, we want to skip the rest of the logic in\u001B[39;00m\n\u001B[1;32m   1758\u001B[0m \u001B[38;5;66;03m# this function, and just call forward.\u001B[39;00m\n\u001B[1;32m   1759\u001B[0m \u001B[38;5;28;01mif\u001B[39;00m \u001B[38;5;129;01mnot\u001B[39;00m (\u001B[38;5;28mself\u001B[39m\u001B[38;5;241m.\u001B[39m_backward_hooks \u001B[38;5;129;01mor\u001B[39;00m \u001B[38;5;28mself\u001B[39m\u001B[38;5;241m.\u001B[39m_backward_pre_hooks \u001B[38;5;129;01mor\u001B[39;00m \u001B[38;5;28mself\u001B[39m\u001B[38;5;241m.\u001B[39m_forward_hooks \u001B[38;5;129;01mor\u001B[39;00m \u001B[38;5;28mself\u001B[39m\u001B[38;5;241m.\u001B[39m_forward_pre_hooks\n\u001B[1;32m   1760\u001B[0m         \u001B[38;5;129;01mor\u001B[39;00m _global_backward_pre_hooks \u001B[38;5;129;01mor\u001B[39;00m _global_backward_hooks\n\u001B[1;32m   1761\u001B[0m         \u001B[38;5;129;01mor\u001B[39;00m _global_forward_hooks \u001B[38;5;129;01mor\u001B[39;00m _global_forward_pre_hooks):\n\u001B[0;32m-> 1762\u001B[0m     \u001B[38;5;28;01mreturn\u001B[39;00m \u001B[43mforward_call\u001B[49m\u001B[43m(\u001B[49m\u001B[38;5;241;43m*\u001B[39;49m\u001B[43margs\u001B[49m\u001B[43m,\u001B[49m\u001B[43m \u001B[49m\u001B[38;5;241;43m*\u001B[39;49m\u001B[38;5;241;43m*\u001B[39;49m\u001B[43mkwargs\u001B[49m\u001B[43m)\u001B[49m\n\u001B[1;32m   1764\u001B[0m result \u001B[38;5;241m=\u001B[39m \u001B[38;5;28;01mNone\u001B[39;00m\n\u001B[1;32m   1765\u001B[0m called_always_called_hooks \u001B[38;5;241m=\u001B[39m \u001B[38;5;28mset\u001B[39m()\n",
      "File \u001B[0;32m~/DataspellProjects/image-classifier/venv/lib/python3.9/site-packages/torch/nn/modules/linear.py:125\u001B[0m, in \u001B[0;36mLinear.forward\u001B[0;34m(self, input)\u001B[0m\n\u001B[1;32m    124\u001B[0m \u001B[38;5;28;01mdef\u001B[39;00m\u001B[38;5;250m \u001B[39m\u001B[38;5;21mforward\u001B[39m(\u001B[38;5;28mself\u001B[39m, \u001B[38;5;28minput\u001B[39m: Tensor) \u001B[38;5;241m-\u001B[39m\u001B[38;5;241m>\u001B[39m Tensor:\n\u001B[0;32m--> 125\u001B[0m     \u001B[38;5;28;01mreturn\u001B[39;00m \u001B[43mF\u001B[49m\u001B[38;5;241;43m.\u001B[39;49m\u001B[43mlinear\u001B[49m\u001B[43m(\u001B[49m\u001B[38;5;28;43minput\u001B[39;49m\u001B[43m,\u001B[49m\u001B[43m \u001B[49m\u001B[38;5;28;43mself\u001B[39;49m\u001B[38;5;241;43m.\u001B[39;49m\u001B[43mweight\u001B[49m\u001B[43m,\u001B[49m\u001B[43m \u001B[49m\u001B[38;5;28;43mself\u001B[39;49m\u001B[38;5;241;43m.\u001B[39;49m\u001B[43mbias\u001B[49m\u001B[43m)\u001B[49m\n",
      "\u001B[0;31mRuntimeError\u001B[0m: mat1 and mat2 shapes cannot be multiplied (1536x32 and 1x1)"
     ]
    }
   ],
   "execution_count": 747
  },
  {
   "metadata": {},
   "cell_type": "code",
   "outputs": [],
   "execution_count": null,
   "source": [
    "gradients = np.array(architecture_adam._gradients['linear']['weight']).squeeze()\n",
    "corrected_gradients = calc_corrected_ewma(gradients, 19)\n",
    "corrected_sq_gradients = calc_corrected_ewma(np.power(gradients, 2), 1999)\n",
    "adapted_gradients = corrected_gradients / (np.sqrt(corrected_sq_gradients) + 1e-8)"
   ]
  },
  {
   "metadata": {},
   "cell_type": "code",
   "outputs": [],
   "execution_count": null,
   "source": [
    "def figure17(gradients, corrected_gradients, corrected_sq_gradients, adapted_gradients):\n",
    "    fig, axs = plt.subplots(1, 3, figsize=(15, 5))\n",
    "    ax = axs[0]\n",
    "    ax.plot(gradients, c='k', label=r'$Gradients$')\n",
    "    ax.plot(corrected_gradients, c='r', linestyle='-', label=r'$Bias-corrected\\ EWMA(grad)$')\n",
    "    ax.set_title('EWMA for Smoothing')\n",
    "    ax.set_ylabel('Gradient')\n",
    "    ax.set_xlabel('Mini-batches')\n",
    "    ax.set_ylim([-1.5, 1.5])\n",
    "    ax.legend(fontsize=12)\n",
    "\n",
    "    ax = axs[1]\n",
    "    ax.plot(1/(np.sqrt(corrected_sq_gradients)+1e-8), c='b', linestyle='-', label=r'$\\frac{1}{\\sqrt{Bias-corrected\\ EWMA(grad^2)}}$')\n",
    "    ax.set_title('EWMA for Scaling')\n",
    "    ax.set_ylabel('Factor')\n",
    "    ax.set_xlabel('Mini-batches')\n",
    "    ax.set_ylim([0, 5])\n",
    "    ax.legend(fontsize=12)\n",
    "\n",
    "    ax = axs[2]\n",
    "    ax.plot(gradients, c='k', label='Gradients')\n",
    "    ax.plot(adapted_gradients, c='g', label='Adapted Gradients')\n",
    "    ax.set_title('Gradients')\n",
    "    ax.set_ylabel('Gradient')\n",
    "    ax.set_xlabel('Mini-batches')\n",
    "    ax.set_ylim([-1.5, 1.5])\n",
    "    ax.legend(fontsize=12)\n",
    "    fig.tight_layout()\n",
    "    return fig"
   ]
  },
  {
   "metadata": {},
   "cell_type": "code",
   "outputs": [],
   "execution_count": null,
   "source": "fig = figure17(gradients, corrected_gradients, corrected_sq_gradients, adapted_gradients)"
  },
  {
   "metadata": {},
   "cell_type": "code",
   "outputs": [],
   "execution_count": null,
   "source": "optimizer.state_dict()"
  },
  {
   "metadata": {},
   "cell_type": "code",
   "outputs": [],
   "execution_count": null,
   "source": "calc_ewma(gradients, 19)[-1], calc_ewma(np.power(gradients, 2), 1999)[-1]"
  },
  {
   "metadata": {},
   "cell_type": "code",
   "outputs": [],
   "execution_count": null,
   "source": [
    "setattr(Architecture, '_parameters', {})\n",
    "\n",
    "def capture_parameters(self, layers_to_hook):\n",
    "    if not isinstance(layers_to_hook, list):\n",
    "        layers_to_hook = [layers_to_hook]\n",
    "\n",
    "    modules = list(self.model.named_modules())\n",
    "    layer_names = {layer: name for name, layer in modules}\n",
    "\n",
    "    self._parameters = {}\n",
    "\n",
    "    for name, layer in modules:\n",
    "        if name in layers_to_hook:\n",
    "            self._parameters.update({name: {}})\n",
    "            for parm_id, p in layer.named_parameters():\n",
    "                self._parameters[name].update({parm_id: []})\n",
    "\n",
    "    def fw_hook_fn(layer, inputs, outputs):\n",
    "        name = layer_names[layer]\n",
    "        for parm_id, parameter in layer.named_parameters():\n",
    "            self._parameters[name][parm_id].append(parameter.tolist())\n",
    "\n",
    "    self.attach_hooks(layers_to_hook, fw_hook_fn)\n",
    "    return\n",
    "\n",
    "setattr(Architecture, 'capture_parameters', capture_parameters)"
   ]
  },
  {
   "metadata": {},
   "cell_type": "code",
   "outputs": [],
   "execution_count": null,
   "source": [
    "def compare_optimizers(model, loss_fn, optimizers, train_loader, val_loader=None, schedulers=None, layers_to_hook='', n_epochs=50):\n",
    "    results = {}\n",
    "    model_state = deepcopy(model).state_dict()\n",
    "\n",
    "    for desc, opt in optimizers.items():\n",
    "        model.load_state_dict(model_state)\n",
    "\n",
    "        optimizer = opt['class'](model.parameters(), **opt['parms'])\n",
    "\n",
    "        sbs = Architecture(model, loss_fn, optimizer)\n",
    "        sbs.set_loaders(train_loader, val_loader)\n",
    "\n",
    "        try:\n",
    "            if schedulers is not None:\n",
    "                sched = schedulers[desc]\n",
    "                scheduler = sched['class'](optimizer, **sched['parms'])\n",
    "                sbs.set_lr_scheduler(scheduler)\n",
    "        except KeyError:\n",
    "            pass\n",
    "\n",
    "        sbs.capture_parameters(layers_to_hook)\n",
    "        sbs.capture_gradients(layers_to_hook)\n",
    "        sbs.train(n_epochs)\n",
    "        sbs.remove_hooks()\n",
    "\n",
    "        parms = deepcopy(sbs._parameters)\n",
    "        grads = deepcopy(sbs._gradients)\n",
    "\n",
    "        lrs = sbs.learning_rates[:]\n",
    "        if not len(lrs):\n",
    "            lrs = [list(map(lambda p: p['lr'], optimizer.state_dict()['param_groups']))] * n_epochs\n",
    "\n",
    "        results.update({desc: {'parms': parms,\n",
    "                               'grads': grads,\n",
    "                               'losses': np.array(sbs.losses),\n",
    "                               'val_losses': np.array(sbs.val_losses),\n",
    "                               'state': optimizer.state_dict(),\n",
    "                               'lrs': lrs}})\n",
    "\n",
    "    return results"
   ]
  },
  {
   "metadata": {},
   "cell_type": "code",
   "outputs": [],
   "execution_count": null,
   "source": [
    "def contour_data(x_tensor, y_tensor):\n",
    "    linr = LinearRegression()\n",
    "    linr.fit(x_tensor, y_tensor)\n",
    "    b, w = linr.intercept_, linr.coef_[0]\n",
    "\n",
    "    # we have to split the ranges in 100 evenly spaced intervals each\n",
    "    b_range = np.linspace(.7, 2.3, 101)\n",
    "    w_range = np.linspace(.7, 2.3, 101)\n",
    "    # meshgrid is a handy function that generates a grid of b and w\n",
    "    # values for all combinations\n",
    "    bs, ws = np.meshgrid(b_range, w_range)\n",
    "    all_predictions = np.apply_along_axis(\n",
    "        func1d=lambda x: bs + ws * x,\n",
    "        axis=1,\n",
    "        arr=x_tensor.numpy()\n",
    "    )\n",
    "    all_labels = y_tensor.numpy().reshape(-1, 1, 1)\n",
    "    all_errors = (all_predictions - all_labels)\n",
    "    all_losses = (all_errors ** 2).mean(axis=0)\n",
    "    return b, w, bs, ws, all_losses"
   ]
  },
  {
   "metadata": {},
   "cell_type": "code",
   "outputs": [],
   "execution_count": null,
   "source": [
    "\n",
    "def plot_paths(results, b, w, bs, ws, all_losses, axs=None):\n",
    "    if axs is None:\n",
    "        fig, axs = plt.subplots(1, len(results), figsize=(5 * len(results), 5))\n",
    "    axs = np.atleast_2d(axs)\n",
    "    axs = [ax for row in axs for ax in row]\n",
    "    for i, (ax, desc) in enumerate(zip(axs, results.keys())):\n",
    "        biases = np.array(results[desc]['parms']['']['linear.bias']).squeeze()\n",
    "        weights = np.array(results[desc]['parms']['']['linear.weight']).squeeze()\n",
    "        ax.plot(biases, weights, '-o', linewidth=1, zorder=1, c='k', markersize=4)\n",
    "        # Loss surface\n",
    "        CS = ax.contour(bs[0, :], ws[:, 0], all_losses, cmap=plt.cm.jet, levels=12)\n",
    "        ax.clabel(CS, inline=1, fontsize=10)\n",
    "        ax.scatter(b, w, c='r', zorder=2, s=40)\n",
    "        ax.set_xlim([.7, 2.3])\n",
    "        ax.set_ylim([.7, 2.3])\n",
    "        ax.set_xlabel('Bias')\n",
    "        ax.set_ylabel('Weight')\n",
    "        ax.set_title(desc)\n",
    "        ax.label_outer()\n",
    "    fig = ax.get_figure()\n",
    "    fig.tight_layout()\n",
    "    return fig"
   ]
  },
  {
   "metadata": {},
   "cell_type": "code",
   "outputs": [],
   "execution_count": null,
   "source": [
    "def plot_losses(results, axs=None):\n",
    "    n = len(results.keys())\n",
    "    if axs is None:\n",
    "        fig, axs = plt.subplots(1, n, figsize=(5*n, 4))\n",
    "    else:\n",
    "        fig = axs[0].get_figure()\n",
    "    for ax, k in zip(axs, results.keys()):\n",
    "        ax.plot(results[k]['losses'], label='Training Loss', c='b')\n",
    "        ax.plot(results[k]['val_losses'], label='Validation Loss', c='r')\n",
    "        ax.set_yscale('log')\n",
    "        ax.set_xlabel('Epochs')\n",
    "        ax.set_ylabel('Loss')\n",
    "        ax.set_ylim([1e-3, 1])\n",
    "        ax.set_title(k)\n",
    "        ax.legend()\n",
    "    fig.tight_layout()\n",
    "    return fig"
   ]
  },
  {
   "metadata": {},
   "cell_type": "code",
   "outputs": [],
   "execution_count": null,
   "source": [
    "# Generating data for the plots\n",
    "torch.manual_seed(42)\n",
    "model = nn.Sequential()\n",
    "model.add_module('linear', nn.Linear(1, 1))\n",
    "loss_fn = nn.MSELoss(reduction='mean')\n",
    "\n",
    "optimizers = {'SGD': {'class': optim.SGD, 'parms': {'lr': 0.1}},\n",
    "             'Adam': {'class': optim.Adam, 'parms': {'lr': 0.1}}}\n",
    "results = compare_optimizers(model, loss_fn, optimizers, train_loader, val_loader, n_epochs=10)\n",
    "\n",
    "b, w, bs, ws, all_losses = contour_data(x_tensor, y_tensor)\n",
    "fig = plot_paths(results, b, w, bs, ws, all_losses)"
   ]
  },
  {
   "metadata": {},
   "cell_type": "code",
   "outputs": [],
   "execution_count": null,
   "source": "fig = plot_losses(results)"
  },
  {
   "metadata": {},
   "cell_type": "code",
   "outputs": [],
   "execution_count": null,
   "source": [
    "# Generating data for the plots\n",
    "torch.manual_seed(42)\n",
    "model = nn.Sequential()\n",
    "model.add_module('linear', nn.Linear(1, 1))\n",
    "loss_fn = nn.MSELoss(reduction='mean')\n",
    "\n",
    "optimizers = {'SGD': {'class': optim.SGD, 'parms': {'lr': 0.1}},\n",
    "             'SGD + Momentum': {'class': optim.SGD, 'parms': {'lr': 0.1, 'momentum': 0.9}}}\n",
    "\n",
    "results = compare_optimizers(model, loss_fn, optimizers, train_loader, val_loader, n_epochs=10)"
   ]
  },
  {
   "metadata": {},
   "cell_type": "code",
   "outputs": [],
   "execution_count": null,
   "source": "results['SGD + Momentum']['state']"
  },
  {
   "metadata": {},
   "cell_type": "code",
   "outputs": [],
   "execution_count": null,
   "source": "fig = plot_paths(results, b, w, bs, ws, all_losses)"
  },
  {
   "metadata": {},
   "cell_type": "code",
   "outputs": [],
   "execution_count": null,
   "source": [
    "# Generating data for the plots\n",
    "torch.manual_seed(42)\n",
    "model = nn.Sequential()\n",
    "model.add_module('linear', nn.Linear(1, 1))\n",
    "loss_fn = nn.MSELoss(reduction='mean')\n",
    "\n",
    "optimizers = {'SGD': {'class': optim.SGD, 'parms': {'lr': 0.1}},\n",
    "              'SGD + Momentum': {'class': optim.SGD, 'parms': {'lr': 0.1, 'momentum': 0.9}},\n",
    "              'SGD + Nesterov': {'class': optim.SGD, 'parms': {'lr': 0.1, 'momentum': 0.9, 'nesterov': True}}}\n",
    "\n",
    "results = compare_optimizers(model, loss_fn, optimizers, train_loader, val_loader, n_epochs=10)"
   ]
  },
  {
   "metadata": {},
   "cell_type": "code",
   "outputs": [],
   "execution_count": null,
   "source": [
    "def momentum(past_value, current_value, beta):\n",
    "    return beta * past_value + current_value\n",
    "\n",
    "def calc_momentum(values, beta):\n",
    "    result = []\n",
    "    for v in values:\n",
    "        try:\n",
    "            prev_value = result[-1]\n",
    "        except IndexError:\n",
    "            prev_value = 0\n",
    "\n",
    "        new_value = momentum(prev_value, v, beta)\n",
    "        result.append(new_value)\n",
    "    return np.array(result)\n",
    "\n",
    "def calc_nesterov(values, beta):\n",
    "    result = calc_momentum(values, beta)\n",
    "    return beta * result + values\n",
    "\n",
    "def figure21(results):\n",
    "    parm = 'linear.weight'\n",
    "\n",
    "    fig, axs = plt.subplots(1, 3, figsize=(15, 5))\n",
    "\n",
    "    for i, ax in enumerate(axs):\n",
    "        desc = list(results.keys())[i]\n",
    "        gradients = np.array(results[desc]['grads'][''][parm]).squeeze()\n",
    "        momentums = calc_momentum(gradients, 0.9)\n",
    "        nesterovs = calc_nesterov(gradients, 0.9)\n",
    "        ax.plot(gradients, c='k', label='Gradients')\n",
    "        if i > 0:\n",
    "            ax.plot(momentums, c='r', label='Momentums')\n",
    "        if i > 1:\n",
    "            ax.plot(nesterovs, c='b', label='Nesterov Momentums')\n",
    "        ax.set_title(desc)\n",
    "        ax.set_ylabel('Gradient')\n",
    "        ax.set_xlabel('Mini-batches')\n",
    "        ax.set_ylim([-2, 1.5])\n",
    "        ax.legend(fontsize=12)\n",
    "\n",
    "    fig.tight_layout()\n",
    "    return fig"
   ]
  },
  {
   "metadata": {},
   "cell_type": "code",
   "outputs": [],
   "execution_count": null,
   "source": "fig = figure21(results)"
  },
  {
   "metadata": {},
   "cell_type": "code",
   "outputs": [],
   "execution_count": null,
   "source": "fig = plot_paths(results, b, w, bs, ws, all_losses)"
  },
  {
   "metadata": {},
   "cell_type": "code",
   "outputs": [],
   "execution_count": null,
   "source": "fig = plot_losses(results)"
  },
  {
   "metadata": {},
   "cell_type": "code",
   "outputs": [],
   "execution_count": null,
   "source": [
    "dummy_optimizer = optim.SGD([nn.Parameter(torch.randn(1))], lr=0.01)\n",
    "dummy_scheduler = StepLR(dummy_optimizer, step_size=2, gamma=0.1)"
   ]
  },
  {
   "metadata": {},
   "cell_type": "code",
   "outputs": [],
   "execution_count": null,
   "source": [
    "for epoch in range(4):\n",
    "    # trainin loop code goes here\n",
    "\n",
    "    print(dummy_scheduler.get_last_lr())\n",
    "    # First call optimizer's step\n",
    "    dummy_optimizer.step()\n",
    "    # Then call scheduler's step\n",
    "    dummy_scheduler.step()\n",
    "\n",
    "    dummy_optimizer.zero_grad()"
   ]
  },
  {
   "metadata": {},
   "cell_type": "code",
   "outputs": [],
   "execution_count": null,
   "source": [
    "\n",
    "\n",
    "dummy_optimizer = optim.SGD([nn.Parameter(torch.randn(1))], lr=0.01)\n",
    "dummy_scheduler = LambdaLR(dummy_optimizer, lr_lambda=lambda epoch: 0.1 ** (epoch//2))\n",
    "# The scheduler above is equivalent to this one\n",
    "# dummy_scheduler = StepLR(dummy_optimizer, step_size=2, gamma=0.1)\n",
    "\n"
   ]
  },
  {
   "metadata": {},
   "cell_type": "code",
   "outputs": [],
   "execution_count": null,
   "source": [
    "def plot_scheduler(dummy_optimizer, dummy_scheduler, logscale=True, ax=None):\n",
    "    learning_rates = []\n",
    "    for i in range(12):\n",
    "        current_lr = list(map(lambda d: d['lr'], dummy_scheduler.optimizer.state_dict()['param_groups']))\n",
    "        learning_rates.append(current_lr)\n",
    "        dummy_optimizer.step()\n",
    "        if isinstance(dummy_scheduler, ReduceLROnPlateau):\n",
    "            dummy_loss = 0.1\n",
    "            dummy_scheduler.step(dummy_loss)\n",
    "        else:\n",
    "            dummy_scheduler.step()\n",
    "\n",
    "    if ax is None:\n",
    "        fig, ax = plt.subplots(1, 1, figsize=(5, 4))\n",
    "\n",
    "    ax.plot(learning_rates)\n",
    "    if logscale:\n",
    "        ax.set_yscale('log')\n",
    "    ax.set_xlabel('Steps')\n",
    "    ax.set_ylabel('Learning Rate')\n",
    "    ax.set_title(type(dummy_scheduler).__name__)\n",
    "    fig = ax.get_figure()\n",
    "    fig.tight_layout()\n",
    "    return fig"
   ]
  },
  {
   "metadata": {},
   "cell_type": "code",
   "outputs": [],
   "execution_count": null,
   "source": "fig = plot_scheduler(dummy_optimizer, dummy_scheduler)"
  },
  {
   "metadata": {},
   "cell_type": "code",
   "outputs": [],
   "execution_count": null,
   "source": [
    "dummy_optimizer = optim.SGD([nn.Parameter(torch.randn(1))], lr=0.01)\n",
    "dummy_scheduler = ReduceLROnPlateau(dummy_optimizer, patience=4, factor=0.1)"
   ]
  },
  {
   "metadata": {},
   "cell_type": "code",
   "outputs": [],
   "execution_count": null,
   "source": "fig = plot_scheduler(dummy_optimizer, dummy_scheduler)"
  },
  {
   "metadata": {},
   "cell_type": "code",
   "outputs": [],
   "execution_count": null,
   "source": [
    "setattr(Architecture, 'scheduler', None)\n",
    "setattr(Architecture, 'is_batch_lr_scheduler', False)\n",
    "\n",
    "def set_lr_scheduler(self, scheduler):\n",
    "    # Makes sure the scheduler in the argument is assigned to the\n",
    "    # optimizer we're using in this class\n",
    "    if scheduler.optimizer == self.optimizer:\n",
    "        self.scheduler = scheduler\n",
    "        if (isinstance(scheduler, optim.lr_scheduler.CyclicLR) or\n",
    "            isinstance(scheduler, optim.lr_scheduler.OneCycleLR) or\n",
    "            isinstance(scheduler, optim.lr_scheduler.CosineAnnealingWarmRestarts)):\n",
    "            self.is_batch_lr_scheduler = True\n",
    "        else:\n",
    "            self.is_batch_lr_scheduler = False\n",
    "\n",
    "setattr(Architecture, 'set_lr_scheduler', set_lr_scheduler)"
   ]
  },
  {
   "metadata": {},
   "cell_type": "code",
   "outputs": [],
   "execution_count": null,
   "source": [
    "setattr(Architecture, 'learning_rates', [])\n",
    "\n",
    "def _epoch_schedulers(self, val_loss):\n",
    "    if self.scheduler:\n",
    "        if not self.is_batch_lr_scheduler:\n",
    "            if isinstance(self.scheduler, torch.optim.lr_scheduler.ReduceLROnPlateau):\n",
    "                self.scheduler.step(val_loss)\n",
    "            else:\n",
    "                self.scheduler.step()\n",
    "\n",
    "            current_lr = list(map(lambda d: d['lr'], self.scheduler.optimizer.state_dict()['param_groups']))\n",
    "            self.learning_rates.append(current_lr)\n",
    "\n",
    "setattr(Architecture, '_epoch_schedulers', _epoch_schedulers)"
   ]
  },
  {
   "metadata": {},
   "cell_type": "code",
   "outputs": [],
   "execution_count": null,
   "source": [
    "\n",
    "\n",
    "def train(self, n_epochs, seed=42):\n",
    "    # To ensure reproducibility of the training process\n",
    "    self.set_seed(seed)\n",
    "\n",
    "    for epoch in range(n_epochs):\n",
    "        # Keeps track of the numbers of epochs\n",
    "        # by updating the corresponding attribute\n",
    "        self.total_epochs += 1\n",
    "\n",
    "        # inner loop\n",
    "        # Performs training using mini-batches\n",
    "        loss = self._mini_batch(validation=False)\n",
    "        self.losses.append(loss)\n",
    "\n",
    "        # VALIDATION\n",
    "        # no gradients in validation!\n",
    "        with torch.no_grad():\n",
    "            # Performs evaluation using mini-batches\n",
    "            val_loss = self._mini_batch(validation=True)\n",
    "            self.val_losses.append(val_loss)\n",
    "\n",
    "        self._epoch_schedulers(val_loss)\n",
    "\n",
    "        # If a SummaryWriter has been set...\n",
    "        if self.writer:\n",
    "            scalars = {'training': loss}\n",
    "            if val_loss is not None:\n",
    "                scalars.update({'validation': val_loss})\n",
    "            # Records both losses for each epoch under the main tag \"loss\"\n",
    "            self.writer.add_scalars(main_tag='loss',\n",
    "                                    tag_scalar_dict=scalars,\n",
    "                                    global_step=epoch)\n",
    "\n",
    "    if self.writer:\n",
    "        # Closes the writer\n",
    "        self.writer.close()\n",
    "\n",
    "setattr(Architecture, 'train', train)\n",
    "\n"
   ]
  },
  {
   "metadata": {},
   "cell_type": "code",
   "outputs": [],
   "execution_count": null,
   "source": [
    "dummy_parm = [nn.Parameter(torch.randn(1))]\n",
    "dummy_optimizer = optim.SGD(dummy_parm, lr=0.01)\n",
    "\n",
    "dummy_scheduler1 = CyclicLR(dummy_optimizer, base_lr=1e-4, max_lr=1e-3, step_size_up=2, mode='triangular')\n",
    "dummy_scheduler2 = CyclicLR(dummy_optimizer, base_lr=1e-4, max_lr=1e-3, step_size_up=2, mode='triangular2')\n",
    "dummy_scheduler3 = CyclicLR(dummy_optimizer, base_lr=1e-4, max_lr=1e-3, step_size_up=2, mode='exp_range', gamma=np.sqrt(.5))"
   ]
  },
  {
   "metadata": {},
   "cell_type": "code",
   "outputs": [],
   "execution_count": null,
   "source": [
    "def figure26(dummy_optimizer, dummy_schedulers):\n",
    "    fig, axs = plt.subplots(1, 3, figsize=(15, 4))\n",
    "    fig = plot_scheduler(dummy_optimizer, dummy_schedulers[0], ax=axs[0], logscale=False)\n",
    "    fig = plot_scheduler(dummy_optimizer, dummy_schedulers[1], ax=axs[1], logscale=False)\n",
    "    fig = plot_scheduler(dummy_optimizer, dummy_schedulers[2], ax=axs[2], logscale=False)\n",
    "    axs[0].set_ylim([9e-5, 1e-3])\n",
    "    axs[1].set_ylim([9e-5, 1e-3])\n",
    "    axs[2].set_ylim([9e-5, 1e-3])\n",
    "    axs[0].set_title('CyclicLR - mode=triangular')\n",
    "    axs[1].set_title('CyclicLR - mode=triangular2')\n",
    "    axs[2].set_title('CyclicLR - mode=exp_range')\n",
    "    fig.tight_layout()\n",
    "    return fig"
   ]
  },
  {
   "metadata": {},
   "cell_type": "code",
   "outputs": [],
   "execution_count": null,
   "source": "fig = figure26(dummy_optimizer, (dummy_scheduler1, dummy_scheduler2, dummy_scheduler3))"
  },
  {
   "metadata": {},
   "cell_type": "code",
   "outputs": [],
   "execution_count": null,
   "source": [
    "\n",
    "\n",
    "def _mini_batch_schedulers(self, frac_epoch):\n",
    "    if self.scheduler:\n",
    "        if self.is_batch_lr_scheduler:\n",
    "            if isinstance(self.scheduler, torch.optim.lr_scheduler.CosineAnnealingWarmRestarts):\n",
    "                self.scheduler.step(self.total_epochs + frac_epoch)\n",
    "            else:\n",
    "                self.scheduler.step()\n",
    "\n",
    "            current_lr = list(map(lambda d: d['lr'], self.scheduler.optimizer.state_dict()['param_groups']))\n",
    "            self.learning_rates.append(current_lr)\n",
    "\n",
    "setattr(Architecture, '_mini_batch_schedulers', _mini_batch_schedulers)\n",
    "\n"
   ]
  },
  {
   "metadata": {},
   "cell_type": "code",
   "outputs": [],
   "execution_count": null,
   "source": [
    "def _mini_batch(self, validation=False):\n",
    "    # The mini-batch can be used with both loaders\n",
    "    # The argument `validation`defines which loader and\n",
    "    # corresponding step function is going to be used\n",
    "    if validation:\n",
    "        data_loader = self.val_loader\n",
    "        step_fn = self.val_step_fn\n",
    "    else:\n",
    "        data_loader = self.train_loader\n",
    "        step_fn = self.train_step_fn\n",
    "\n",
    "    if data_loader is None:\n",
    "        return None\n",
    "\n",
    "    n_batches = len(data_loader)\n",
    "    # Once the data loader and step function, this is the same\n",
    "    # mini-batch loop we had before\n",
    "    mini_batch_losses = []\n",
    "    for i, (x_batch, y_batch) in enumerate(data_loader):\n",
    "        x_batch = x_batch.to(self.device)\n",
    "        y_batch = y_batch.to(self.device)\n",
    "\n",
    "        mini_batch_loss = step_fn(x_batch, y_batch)\n",
    "        mini_batch_losses.append(mini_batch_loss)\n",
    "\n",
    "        if not validation:\n",
    "            self._mini_batch_schedulers(i / n_batches)\n",
    "\n",
    "    loss = np.mean(mini_batch_losses)\n",
    "    return loss\n",
    "\n",
    "setattr(Architecture, '_mini_batch', _mini_batch)"
   ]
  },
  {
   "metadata": {},
   "cell_type": "code",
   "outputs": [],
   "execution_count": null,
   "source": [
    "fig, axs = plt.subplots(1, 2, figsize=(10, 4))\n",
    "for ax, nesterov in zip(axs.flat, [False, True]):\n",
    "    torch.manual_seed(42)\n",
    "    model = nn.Sequential()\n",
    "    model.add_module('linear', nn.Linear(1, 1))\n",
    "    loss_fn = nn.MSELoss(reduction='mean')\n",
    "    optimizer = optim.SGD(model.parameters(), lr=1e-3, momentum=0.9, nesterov=nesterov)\n",
    "\n",
    "    sbs_scheduler = Architecture(model, loss_fn, optimizer)\n",
    "    tracking, fig = sbs_scheduler.lr_range_test(train_loader, end_lr=1, num_iter=100, ax=ax)\n",
    "\n",
    "    nest = ' + Nesterov' if nesterov else ''\n",
    "    ax.set_title(f'Momentum{nest}')"
   ]
  },
  {
   "metadata": {},
   "cell_type": "code",
   "outputs": [],
   "execution_count": null,
   "source": [
    "step_scheduler = StepLR(optimizer, step_size=20, gamma=0.5)\n",
    "cyclic_scheduler = CyclicLR(optimizer, base_lr=0.025, max_lr=0.1, step_size_up=10, mode='triangular2')"
   ]
  },
  {
   "metadata": {},
   "cell_type": "code",
   "outputs": [],
   "execution_count": null,
   "source": [
    "\n",
    "\n",
    "# Generating data for the plots\n",
    "torch.manual_seed(42)\n",
    "model = nn.Sequential()\n",
    "model.add_module('linear', nn.Linear(1, 1))\n",
    "loss_fn = nn.MSELoss(reduction='mean')\n",
    "\n",
    "optimizers = {'SGD + Momentum': {'class': optim.SGD, 'parms': {'lr': 0.1, 'momentum': 0.9}},\n",
    "              'SGD + Momentum + Step': {'class': optim.SGD, 'parms': {'lr': 0.1, 'momentum': 0.9}},\n",
    "              'SGD + Momentum + Cycle': {'class': optim.SGD, 'parms': {'lr': 0.1, 'momentum': 0.9}},\n",
    "              'SGD + Nesterov': {'class': optim.SGD, 'parms': {'lr': 0.1, 'momentum': 0.9, 'nesterov': True}},\n",
    "              'SGD + Nesterov + Step': {'class': optim.SGD, 'parms': {'lr': 0.1, 'momentum': 0.9, 'nesterov': True}},\n",
    "              'SGD + Nesterov + Cycle': {'class': optim.SGD, 'parms': {'lr': 0.1, 'momentum': 0.9, 'nesterov': True}}}\n",
    "\n",
    "schedulers = {'SGD + Momentum + Step': {'class': StepLR, 'parms': {'step_size': 4, 'gamma': 0.5}},\n",
    "              'SGD + Momentum + Cycle': {'class': CyclicLR, 'parms': {'base_lr': 0.025, 'max_lr': 0.1, 'step_size_up': 10, 'mode': 'triangular2'}},\n",
    "              'SGD + Nesterov + Step': {'class': StepLR, 'parms': {'step_size': 4, 'gamma': 0.5}},\n",
    "              'SGD + Nesterov + Cycle': {'class': CyclicLR, 'parms': {'base_lr': 0.025, 'max_lr': 0.1, 'step_size_up': 10, 'mode': 'triangular2'}}}\n",
    "\n",
    "results = compare_optimizers(model, loss_fn, optimizers, train_loader, val_loader, schedulers, n_epochs=10)\n",
    "\n"
   ]
  },
  {
   "metadata": {},
   "cell_type": "code",
   "outputs": [],
   "execution_count": null,
   "source": [
    "def figure28(results, b, w, bs, ws, all_losses):\n",
    "    axs = []\n",
    "    fig = plt.figure(figsize=(15, 12))\n",
    "    for i in range(3):\n",
    "        axs.append(plt.subplot2grid((5, 3), (0, i), rowspan=2))\n",
    "    for i in range(3):\n",
    "        axs.append(plt.subplot2grid((5, 3), (3, i), rowspan=2))\n",
    "    for i in range(3):\n",
    "        axs.append(plt.subplot2grid((5, 3), (2, i)))\n",
    "\n",
    "    lrs = [results[k]['lrs'] for k in ['SGD + Momentum', 'SGD + Momentum + Step', 'SGD + Momentum + Cycle']]\n",
    "    for ax, l, title in zip(axs[6:], lrs, ['No Scheduler', 'StepLR', 'CyclicLR']):\n",
    "        ax.plot(l)\n",
    "        ax.set_title(title)\n",
    "        if title == 'CyclicLR':\n",
    "            ax.set_xlabel('Mini-batches')\n",
    "        else:\n",
    "            ax.set_xlabel('Epochs')\n",
    "        ax.set_ylabel('Learning Rate')\n",
    "        ax.set_ylim([0.0, .11])\n",
    "\n",
    "    fig = plot_paths(results, b, w, bs, ws, all_losses, axs=axs[:6])\n",
    "    for ax in axs[:6]:\n",
    "        ax.set_xlabel('Bias')\n",
    "    fig.tight_layout()"
   ]
  },
  {
   "metadata": {},
   "cell_type": "code",
   "outputs": [],
   "execution_count": null,
   "source": "fig = figure28(results, b, w, bs, ws, all_losses)"
  },
  {
   "metadata": {},
   "cell_type": "code",
   "outputs": [],
   "execution_count": null,
   "source": [
    "\n",
    "\n",
    "fig, axs = plt.subplots(2, 3, figsize=(15, 8))\n",
    "axs = axs.flat\n",
    "fig = plot_losses(results, axs)\n",
    "\n"
   ]
  },
  {
   "metadata": {},
   "cell_type": "code",
   "outputs": [],
   "execution_count": null,
   "source": [
    "\n",
    "\n",
    "# Loads temporary dataset to build normalizer\n",
    "temp_transform = Compose([Resize(28), ToImage(), ToDtype(torch.float32, scale=True)])\n",
    "temp_dataset = ImageFolder(root='rps', transform=temp_transform)\n",
    "temp_loader = DataLoader(temp_dataset, batch_size=16)\n",
    "normalizer = Architecture.make_normalizer(temp_loader)\n",
    "\n",
    "# Builds transformation, datasets and data loaders\n",
    "composer = Compose([Resize(28),\n",
    "                    ToImage(),\n",
    "                    ToDtype(torch.float32, scale=True),\n",
    "                    normalizer])\n",
    "\n",
    "train_data = ImageFolder(root='rps', transform=composer)\n",
    "val_data = ImageFolder(root='rps-test-set', transform=composer)\n",
    "\n",
    "# Builds a loader of each set\n",
    "train_loader = DataLoader(train_data, batch_size=16, shuffle=True)\n",
    "val_loader = DataLoader(val_data, batch_size=16)\n",
    "\n"
   ]
  },
  {
   "metadata": {},
   "cell_type": "code",
   "outputs": [],
   "execution_count": null,
   "source": [
    "\n",
    "\n",
    "torch.manual_seed(13)\n",
    "model_cnn3 = CNN2(n_feature=5, p=0.5)\n",
    "multi_loss_fn = nn.CrossEntropyLoss(reduction='mean')\n",
    "optimizer_cnn3 = optim.SGD(model_cnn3.parameters(), lr=1e-3, momentum=0.9, nesterov=True)\n",
    "\n"
   ]
  },
  {
   "metadata": {},
   "cell_type": "code",
   "outputs": [],
   "execution_count": null,
   "source": [
    "\n",
    "\n",
    "arch_cnn3 = Architecture(model_cnn3, multi_loss_fn, optimizer_cnn3)\n",
    "tracking, fig = arch_cnn3.lr_range_test(train_loader, end_lr=2e-1, num_iter=100)\n",
    "\n"
   ]
  },
  {
   "metadata": {},
   "cell_type": "code",
   "outputs": [],
   "execution_count": null,
   "source": [
    "\n",
    "\n",
    "optimizer_cnn3 = optim.SGD(model_cnn3.parameters(), lr=0.01, momentum=0.9, nesterov=True)\n",
    "arch_cnn3.set_optimizer(optimizer_cnn3)\n",
    "\n",
    "scheduler = CyclicLR(optimizer_cnn3, base_lr=1e-3, max_lr=0.01, step_size_up=len(train_loader), mode='triangular2')\n",
    "arch_cnn3.set_lr_scheduler(scheduler)\n",
    "\n"
   ]
  },
  {
   "metadata": {},
   "cell_type": "code",
   "outputs": [],
   "execution_count": null,
   "source": [
    "arch_cnn3.set_loaders(train_loader, val_loader)\n",
    "arch_cnn3.train(10)"
   ]
  },
  {
   "metadata": {},
   "cell_type": "code",
   "outputs": [],
   "execution_count": null,
   "source": "fig = arch_cnn3.plot_losses()"
  },
  {
   "metadata": {},
   "cell_type": "code",
   "outputs": [],
   "execution_count": null,
   "source": [
    "\n",
    "\n",
    "print(Architecture.loader_apply(train_loader, arch_cnn3.correct).sum(axis=0),\n",
    "      Architecture.loader_apply(val_loader, arch_cnn3.correct).sum(axis=0))\n",
    "\n"
   ]
  }
 ]
}
